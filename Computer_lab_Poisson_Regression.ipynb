{
 "cells": [
  {
   "cell_type": "markdown",
   "metadata": {
    "colab_type": "text",
    "id": "vlYA0IRh1sDS"
   },
   "source": [
    "# Introduction\n",
    "The Poisson regression model belongs to a class of models called generlized linear models. In a generlized linear model (GLM), the mean of the response, $\\mu$, is modelled as a monotonic (nonlinear) transformation of the explanatory variables, $g(\\beta_0 + \\beta_1 x_1 + \\beta_2 x_2 + \\ldots + \\beta_p x_p)$. The inverse of the transformation $g$ is called the *canonical link function*. In Poisson regression this function is the log function, but in other GLMs different link functions are used. Also, the response may take different distributions, such as the normal or the binomial distribution."
   ]
  },
  {
   "cell_type": "markdown",
   "metadata": {
    "colab_type": "text",
    "id": "loAS5UgW2iME"
   },
   "source": [
    "# Reading data into python\n",
    "First we import the pandas package (Pandas stands for panel datas), more info can be found at Pandas website www.pandas.org"
   ]
  },
  {
   "cell_type": "code",
   "execution_count": 0,
   "metadata": {
    "colab": {},
    "colab_type": "code",
    "id": "P7oQAIYyX-Vu"
   },
   "outputs": [],
   "source": [
    "import pandas as pd"
   ]
  },
  {
   "cell_type": "markdown",
   "metadata": {
    "colab_type": "text",
    "id": "-nwI4NBN2y2_"
   },
   "source": [
    "The csv (comma separated values) file is dat5007.csv and is delimited with \";\". We can use the pandas function read_table to load the data into the variable df."
   ]
  },
  {
   "cell_type": "code",
   "execution_count": 0,
   "metadata": {
    "colab": {},
    "colab_type": "code",
    "id": "XuTIHWc5Ykij"
   },
   "outputs": [],
   "source": [
    "df = pd.read_table(\"dat5007.csv\",sep=\";\",)"
   ]
  },
  {
   "cell_type": "code",
   "execution_count": 3,
   "metadata": {
    "colab": {
     "base_uri": "https://localhost:8080/",
     "height": 214
    },
    "colab_type": "code",
    "id": "4J6vxyY8uxuJ",
    "outputId": "fc4412cf-17fd-4597-8763-715cbefa69ff"
   },
   "outputs": [
    {
     "data": {
      "text/plain": [
       "År                                      float64\n",
       "Dödade                                  float64\n",
       "Skadade                                 float64\n",
       "Varav svårt skadade                      object\n",
       "Bilar i trafik vid årets slut (1000)    float64\n",
       "Bensinleveranser (1000 m3)               object\n",
       "Invånare vid årets slut (1000)          float64\n",
       "Dödade per 100 000 Bilar                float64\n",
       "Dödade per 100 000 Invånare              object\n",
       "Unnamed: 9                              float64\n",
       "Unnamed: 10                             float64\n",
       "dtype: object"
      ]
     },
     "execution_count": 3,
     "metadata": {
      "tags": []
     },
     "output_type": "execute_result"
    }
   ],
   "source": [
    "df.dtypes"
   ]
  },
  {
   "cell_type": "markdown",
   "metadata": {
    "colab_type": "text",
    "id": "GMzJm5mi2_-L"
   },
   "source": [
    "Now, some of the columns have bad values, like spaces and thus pandas cannot see that the column is a numeric value, we can force this to happen using the to_numeric function."
   ]
  },
  {
   "cell_type": "code",
   "execution_count": 0,
   "metadata": {
    "colab": {},
    "colab_type": "code",
    "id": "jruIO8q_Z70Y"
   },
   "outputs": [],
   "source": [
    "df['Varav svårt skadade'] = pd.to_numeric(df['Varav svårt skadade'],errors='coerce')\n",
    "df['Bensinleveranser (1000 m3)'] = pd.to_numeric(df['Bensinleveranser (1000 m3)'],errors='coerce')\n",
    "df['Dödade per 100 000 Invånare'] = pd.to_numeric(df['Dödade per 100 000 Invånare'],errors='coerce')"
   ]
  },
  {
   "cell_type": "markdown",
   "metadata": {
    "colab_type": "text",
    "id": "-RuPnt-83ROa"
   },
   "source": [
    "A final check confirms that all columns are now numeric i.e. float64 (64 bit floating point value)"
   ]
  },
  {
   "cell_type": "code",
   "execution_count": 5,
   "metadata": {
    "colab": {
     "base_uri": "https://localhost:8080/",
     "height": 214
    },
    "colab_type": "code",
    "id": "iBafruZD1Vaz",
    "outputId": "375ff451-a487-4b2d-f3c9-250505f8ab2d"
   },
   "outputs": [
    {
     "data": {
      "text/plain": [
       "År                                      float64\n",
       "Dödade                                  float64\n",
       "Skadade                                 float64\n",
       "Varav svårt skadade                     float64\n",
       "Bilar i trafik vid årets slut (1000)    float64\n",
       "Bensinleveranser (1000 m3)              float64\n",
       "Invånare vid årets slut (1000)          float64\n",
       "Dödade per 100 000 Bilar                float64\n",
       "Dödade per 100 000 Invånare             float64\n",
       "Unnamed: 9                              float64\n",
       "Unnamed: 10                             float64\n",
       "dtype: object"
      ]
     },
     "execution_count": 5,
     "metadata": {
      "tags": []
     },
     "output_type": "execute_result"
    }
   ],
   "source": [
    "df.dtypes"
   ]
  },
  {
   "cell_type": "markdown",
   "metadata": {
    "colab_type": "text",
    "id": "ZXkrdsXm3Zpi"
   },
   "source": [
    "The csv file contains some extra columns that are of no use, so lets drop those"
   ]
  },
  {
   "cell_type": "code",
   "execution_count": 0,
   "metadata": {
    "colab": {},
    "colab_type": "code",
    "id": "ZptWZcax1Ws6"
   },
   "outputs": [],
   "source": [
    "df = df.drop(labels=[\"Unnamed: 9\",\"Unnamed: 10\"],axis=1)"
   ]
  },
  {
   "cell_type": "markdown",
   "metadata": {
    "colab_type": "text",
    "id": "cPBuu2C_3f1O"
   },
   "source": [
    "The df variable now contains a Pandas dataframe which contains all the data, we can take a look at that data using the head function, the value we specify tells pandas how many lines we want to preview."
   ]
  },
  {
   "cell_type": "code",
   "execution_count": 7,
   "metadata": {
    "colab": {
     "base_uri": "https://localhost:8080/",
     "height": 187
    },
    "colab_type": "code",
    "id": "v96BXuGM1f_S",
    "outputId": "276f47b3-694c-4842-e91d-0bfc9e79384e"
   },
   "outputs": [
    {
     "data": {
      "text/html": [
       "<div>\n",
       "<style scoped>\n",
       "    .dataframe tbody tr th:only-of-type {\n",
       "        vertical-align: middle;\n",
       "    }\n",
       "\n",
       "    .dataframe tbody tr th {\n",
       "        vertical-align: top;\n",
       "    }\n",
       "\n",
       "    .dataframe thead th {\n",
       "        text-align: right;\n",
       "    }\n",
       "</style>\n",
       "<table border=\"1\" class=\"dataframe\">\n",
       "  <thead>\n",
       "    <tr style=\"text-align: right;\">\n",
       "      <th></th>\n",
       "      <th>År</th>\n",
       "      <th>Dödade</th>\n",
       "      <th>Skadade</th>\n",
       "      <th>Varav svårt skadade</th>\n",
       "      <th>Bilar i trafik vid årets slut (1000)</th>\n",
       "      <th>Bensinleveranser (1000 m3)</th>\n",
       "      <th>Invånare vid årets slut (1000)</th>\n",
       "      <th>Dödade per 100 000 Bilar</th>\n",
       "      <th>Dödade per 100 000 Invånare</th>\n",
       "    </tr>\n",
       "  </thead>\n",
       "  <tbody>\n",
       "    <tr>\n",
       "      <th>0</th>\n",
       "      <td>1950.0</td>\n",
       "      <td>595.0</td>\n",
       "      <td>10583.0</td>\n",
       "      <td>NaN</td>\n",
       "      <td>345.0</td>\n",
       "      <td>NaN</td>\n",
       "      <td>7042.0</td>\n",
       "      <td>172.463768</td>\n",
       "      <td>8.449304</td>\n",
       "    </tr>\n",
       "    <tr>\n",
       "      <th>1</th>\n",
       "      <td>1951.0</td>\n",
       "      <td>708.0</td>\n",
       "      <td>11240.0</td>\n",
       "      <td>NaN</td>\n",
       "      <td>410.0</td>\n",
       "      <td>NaN</td>\n",
       "      <td>7099.0</td>\n",
       "      <td>172.682927</td>\n",
       "      <td>9.973236</td>\n",
       "    </tr>\n",
       "    <tr>\n",
       "      <th>2</th>\n",
       "      <td>1952.0</td>\n",
       "      <td>750.0</td>\n",
       "      <td>12846.0</td>\n",
       "      <td>NaN</td>\n",
       "      <td>466.0</td>\n",
       "      <td>NaN</td>\n",
       "      <td>7151.0</td>\n",
       "      <td>160.944206</td>\n",
       "      <td>10.488044</td>\n",
       "    </tr>\n",
       "    <tr>\n",
       "      <th>3</th>\n",
       "      <td>1953.0</td>\n",
       "      <td>921.0</td>\n",
       "      <td>15033.0</td>\n",
       "      <td>NaN</td>\n",
       "      <td>542.0</td>\n",
       "      <td>NaN</td>\n",
       "      <td>7192.0</td>\n",
       "      <td>169.926199</td>\n",
       "      <td>12.805895</td>\n",
       "    </tr>\n",
       "  </tbody>\n",
       "</table>\n",
       "</div>"
      ],
      "text/plain": [
       "       År  Dödade  ...  Dödade per 100 000 Bilar  Dödade per 100 000 Invånare\n",
       "0  1950.0   595.0  ...                172.463768                     8.449304\n",
       "1  1951.0   708.0  ...                172.682927                     9.973236\n",
       "2  1952.0   750.0  ...                160.944206                    10.488044\n",
       "3  1953.0   921.0  ...                169.926199                    12.805895\n",
       "\n",
       "[4 rows x 9 columns]"
      ]
     },
     "execution_count": 7,
     "metadata": {
      "tags": []
     },
     "output_type": "execute_result"
    }
   ],
   "source": [
    "df.head(4)"
   ]
  },
  {
   "cell_type": "markdown",
   "metadata": {
    "colab_type": "text",
    "id": "Esr4eRLW3zp5"
   },
   "source": [
    "# Visualizations\n",
    "Try plotting the number of people killed vs. number of cars and the petrol consumption. Do you see any connection?"
   ]
  },
  {
   "cell_type": "code",
   "execution_count": 8,
   "metadata": {
    "colab": {
     "base_uri": "https://localhost:8080/",
     "height": 280
    },
    "colab_type": "code",
    "id": "09E0FZ-j1l67",
    "outputId": "1b243c58-e9c7-44b2-ca29-bf3f904f0b73"
   },
   "outputs": [
    {
     "data": {
      "text/plain": [
       "<matplotlib.collections.PathCollection at 0x7fb4da4ca518>"
      ]
     },
     "execution_count": 8,
     "metadata": {
      "tags": []
     },
     "output_type": "execute_result"
    },
    {
     "data": {
      "image/png": "[encoded data removed]",
      "text/plain": [
       "<Figure size 432x288 with 1 Axes>"
      ]
     },
     "metadata": {
      "needs_background": "light",
      "tags": []
     },
     "output_type": "display_data"
    }
   ],
   "source": [
    "%matplotlib inline\n",
    "import matplotlib.pyplot as plt\n",
    "plt.scatter(df['År'],df['Dödade'])"
   ]
  },
  {
   "cell_type": "code",
   "execution_count": 9,
   "metadata": {
    "colab": {
     "base_uri": "https://localhost:8080/",
     "height": 284
    },
    "colab_type": "code",
    "id": "B9hvt3L44JAk",
    "outputId": "d31bcd65-2ff2-4343-e13f-6cfc3b357b0f"
   },
   "outputs": [
    {
     "data": {
      "text/plain": [
       "<matplotlib.collections.PathCollection at 0x7fb4d779f400>"
      ]
     },
     "execution_count": 9,
     "metadata": {
      "tags": []
     },
     "output_type": "execute_result"
    },
    {
     "data": {
      "image/png": "[encoded data removed]",
      "text/plain": [
       "<Figure size 432x288 with 1 Axes>"
      ]
     },
     "metadata": {
      "needs_background": "light",
      "tags": []
     },
     "output_type": "display_data"
    }
   ],
   "source": [
    "plt.scatter(df['År'],df['Bilar i trafik vid årets slut (1000)'])"
   ]
  },
  {
   "cell_type": "code",
   "execution_count": 10,
   "metadata": {
    "colab": {
     "base_uri": "https://localhost:8080/",
     "height": 280
    },
    "colab_type": "code",
    "id": "vanOPTa94Sk7",
    "outputId": "191c7eab-ff75-482b-8a89-bcf6e9f39bbc"
   },
   "outputs": [
    {
     "data": {
      "text/plain": [
       "<matplotlib.collections.PathCollection at 0x7fb4d7783438>"
      ]
     },
     "execution_count": 10,
     "metadata": {
      "tags": []
     },
     "output_type": "execute_result"
    },
    {
     "data": {
      "image/png": "[encoded data removed]",
      "text/plain": [
       "<Figure size 432x288 with 1 Axes>"
      ]
     },
     "metadata": {
      "needs_background": "light",
      "tags": []
     },
     "output_type": "display_data"
    }
   ],
   "source": [
    "plt.scatter(df['År'],df['Bensinleveranser (1000 m3)'])"
   ]
  },
  {
   "cell_type": "markdown",
   "metadata": {
    "colab_type": "text",
    "id": "0MHfa9-64iLM"
   },
   "source": [
    "From the plot it can be seen that the trend of increasing killed is broken around year 1965. And from year 1970 the number starts to decrease. Why did the number of people killed increase in years 1950-1965? What was the reason for the brake of the increasing trend? (Hint: right-side driving (1967), front seat-belts in new cars (1969), mandatory use of front seat-belts (1975))."
   ]
  },
  {
   "cell_type": "markdown",
   "metadata": {
    "colab_type": "text",
    "id": "Y_BcpGdo44-W"
   },
   "source": [
    "# The Poisson regression model\n",
    "Consider a sequence of count data, $n_i$, $i=1,\\ldots, k$, for some event, i.e. the number of perished in traffic accidents in a year. This count data is assumed to be observations from random variables $N_i \\in \\text{Po}(\\mu_i)$, (called responses or dependent variables) with mean value $\\mu_i = \\mu_i(x_{i1}, \\ldots , x_{ip})$. The variables, $x_{i1}, . . . , x_{ip}$, are called explanatory variables and are assumed to measure factors that influence the count data.\n",
    "We restrict $\\mu_i$ to be a log-linear function,\n",
    "$$\\mu_i = \\exp(\\beta_0 + \\beta_1 x_{i1} + \\ldots + \\beta_p x_{ip}).$$\n",
    "Thus the probability that $N_i = n$ is,\n",
    "$$\n",
    "  P(N_i = n) = \\frac{e^{-\\mu_i} \\mu_i^n}{n!}\n",
    "$$"
   ]
  },
  {
   "cell_type": "markdown",
   "metadata": {
    "colab_type": "text",
    "id": "LuhLmGw35_2C"
   },
   "source": [
    "# Poisson regression of traffic data\n",
    "\n",
    "We will now try to fit the Poisson regression model to the traffic data of the number of people killed in road accidents. Above, we could see that there was a break in the trend of increasing number people killed around year 1965-1975, mainly because of the improvement in car safety due to the use of safety belts. Because of this it seems reasonable introduce an explanatory variable that captures this."
   ]
  },
  {
   "cell_type": "code",
   "execution_count": 0,
   "metadata": {
    "colab": {},
    "colab_type": "code",
    "id": "00Y2iO5Y4aaD"
   },
   "outputs": [],
   "source": [
    "df['Säkerhetsbälte'] = (df['År'] > 1975)*1"
   ]
  },
  {
   "cell_type": "markdown",
   "metadata": {
    "colab_type": "text",
    "id": "ljZ0AqlZOUo3"
   },
   "source": [
    "## Removing NaNs\n",
    "Usually it is prudent to remove the NaN (Not a Number) in some way, usually it is because data is missing, sometimes we did something wrong in transforming the data or reading the data. In this case it is simply missing data. There are two rows at the end with no data (probably the csv is formatted incorrectly at the end. Furthermore Severely injured and Petrol deliveries (Svårt skadade & Bensinleveranser) starts from 1956 and forwards, so lets drop the na's. This will give us only a few years of data loss at the beginning."
   ]
  },
  {
   "cell_type": "code",
   "execution_count": 0,
   "metadata": {
    "colab": {},
    "colab_type": "code",
    "id": "W75FW0DNOQuU"
   },
   "outputs": [],
   "source": [
    "df = df.dropna()"
   ]
  },
  {
   "cell_type": "code",
   "execution_count": 13,
   "metadata": {
    "colab": {
     "base_uri": "https://localhost:8080/",
     "height": 217
    },
    "colab_type": "code",
    "id": "F_OipDam-h5B",
    "outputId": "3753ddbd-3f34-45c7-d2ad-3e692f2fa9ee"
   },
   "outputs": [
    {
     "data": {
      "text/html": [
       "<div>\n",
       "<style scoped>\n",
       "    .dataframe tbody tr th:only-of-type {\n",
       "        vertical-align: middle;\n",
       "    }\n",
       "\n",
       "    .dataframe tbody tr th {\n",
       "        vertical-align: top;\n",
       "    }\n",
       "\n",
       "    .dataframe thead th {\n",
       "        text-align: right;\n",
       "    }\n",
       "</style>\n",
       "<table border=\"1\" class=\"dataframe\">\n",
       "  <thead>\n",
       "    <tr style=\"text-align: right;\">\n",
       "      <th></th>\n",
       "      <th>År</th>\n",
       "      <th>Dödade</th>\n",
       "      <th>Skadade</th>\n",
       "      <th>Varav svårt skadade</th>\n",
       "      <th>Bilar i trafik vid årets slut (1000)</th>\n",
       "      <th>Bensinleveranser (1000 m3)</th>\n",
       "      <th>Invånare vid årets slut (1000)</th>\n",
       "      <th>Dödade per 100 000 Bilar</th>\n",
       "      <th>Dödade per 100 000 Invånare</th>\n",
       "      <th>Säkerhetsbälte</th>\n",
       "    </tr>\n",
       "  </thead>\n",
       "  <tbody>\n",
       "    <tr>\n",
       "      <th>6</th>\n",
       "      <td>1956.0</td>\n",
       "      <td>889.0</td>\n",
       "      <td>19220.0</td>\n",
       "      <td>3275.0</td>\n",
       "      <td>855.0</td>\n",
       "      <td>1657.0</td>\n",
       "      <td>7341.0</td>\n",
       "      <td>103.976608</td>\n",
       "      <td>12.110067</td>\n",
       "      <td>0</td>\n",
       "    </tr>\n",
       "    <tr>\n",
       "      <th>7</th>\n",
       "      <td>1957.0</td>\n",
       "      <td>946.0</td>\n",
       "      <td>19934.0</td>\n",
       "      <td>3277.0</td>\n",
       "      <td>987.0</td>\n",
       "      <td>1738.0</td>\n",
       "      <td>7393.0</td>\n",
       "      <td>95.845998</td>\n",
       "      <td>12.795888</td>\n",
       "      <td>0</td>\n",
       "    </tr>\n",
       "    <tr>\n",
       "      <th>8</th>\n",
       "      <td>1958.0</td>\n",
       "      <td>941.0</td>\n",
       "      <td>20859.0</td>\n",
       "      <td>3104.0</td>\n",
       "      <td>1098.0</td>\n",
       "      <td>1893.0</td>\n",
       "      <td>7436.0</td>\n",
       "      <td>85.701275</td>\n",
       "      <td>12.654653</td>\n",
       "      <td>0</td>\n",
       "    </tr>\n",
       "    <tr>\n",
       "      <th>9</th>\n",
       "      <td>1959.0</td>\n",
       "      <td>1000.0</td>\n",
       "      <td>21475.0</td>\n",
       "      <td>3137.0</td>\n",
       "      <td>1216.0</td>\n",
       "      <td>2011.0</td>\n",
       "      <td>7471.0</td>\n",
       "      <td>82.236842</td>\n",
       "      <td>13.385089</td>\n",
       "      <td>0</td>\n",
       "    </tr>\n",
       "    <tr>\n",
       "      <th>10</th>\n",
       "      <td>1960.0</td>\n",
       "      <td>1036.0</td>\n",
       "      <td>21536.0</td>\n",
       "      <td>2983.0</td>\n",
       "      <td>1324.0</td>\n",
       "      <td>2127.0</td>\n",
       "      <td>7498.0</td>\n",
       "      <td>78.247734</td>\n",
       "      <td>13.817018</td>\n",
       "      <td>0</td>\n",
       "    </tr>\n",
       "  </tbody>\n",
       "</table>\n",
       "</div>"
      ],
      "text/plain": [
       "        År  Dödade  ...  Dödade per 100 000 Invånare  Säkerhetsbälte\n",
       "6   1956.0   889.0  ...                    12.110067               0\n",
       "7   1957.0   946.0  ...                    12.795888               0\n",
       "8   1958.0   941.0  ...                    12.654653               0\n",
       "9   1959.0  1000.0  ...                    13.385089               0\n",
       "10  1960.0  1036.0  ...                    13.817018               0\n",
       "\n",
       "[5 rows x 10 columns]"
      ]
     },
     "execution_count": 13,
     "metadata": {
      "tags": []
     },
     "output_type": "execute_result"
    }
   ],
   "source": [
    "df.head(5)"
   ]
  },
  {
   "cell_type": "markdown",
   "metadata": {
    "colab_type": "text",
    "id": "_VS0bgTeQ2iI"
   },
   "source": [
    "As showed in the computer example in the previous lecture, the Poissonregression is part of GLM (Generalized Linear Model) which is provided by the statsmodels package. We start with the customary imports (please see the documentation at https://www.statsmodels.org/stable/index.html for more info."
   ]
  },
  {
   "cell_type": "code",
   "execution_count": 14,
   "metadata": {
    "colab": {
     "base_uri": "https://localhost:8080/",
     "height": 49
    },
    "colab_type": "code",
    "id": "A7_IFmvv_nCE",
    "outputId": "8b82faa6-2c7e-4f36-ae9e-5183ba0e2460"
   },
   "outputs": [
    {
     "name": "stderr",
     "output_type": "stream",
     "text": [
      "/usr/local/lib/python3.6/dist-packages/statsmodels/tools/_testing.py:19: FutureWarning: pandas.util.testing is deprecated. Use the functions in the public API at pandas.testing instead.\n",
      "  import pandas.util.testing as tm\n"
     ]
    }
   ],
   "source": [
    "import statsmodels.api as sm\n",
    "import statsmodels.formula.api as smf"
   ]
  },
  {
   "cell_type": "markdown",
   "metadata": {
    "colab_type": "text",
    "id": "MCZtiolsRMEw"
   },
   "source": [
    "Lets start with building a simple model, number of killed vs the year."
   ]
  },
  {
   "cell_type": "code",
   "execution_count": 0,
   "metadata": {
    "colab": {},
    "colab_type": "code",
    "id": "cBqievnjBeTP"
   },
   "outputs": [],
   "source": [
    "mod1 = smf.glm(formula=\"Dödade ~ År\",\n",
    "               data=df,\n",
    "               family=sm.families.Poisson()).fit()"
   ]
  },
  {
   "cell_type": "code",
   "execution_count": 16,
   "metadata": {
    "colab": {
     "base_uri": "https://localhost:8080/",
     "height": 245
    },
    "colab_type": "code",
    "id": "9JvUMIfhHqCV",
    "outputId": "8c00d530-e9fd-439e-a771-54adeb7fcf0c"
   },
   "outputs": [
    {
     "data": {
      "text/html": [
       "<table class=\"simpletable\">\n",
       "<tr>\n",
       "        <td>Model:</td>               <td>GLM</td>            <td>AIC:</td>       <td>1679.9524</td>\n",
       "</tr>\n",
       "<tr>\n",
       "    <td>Link Function:</td>           <td>log</td>            <td>BIC:</td>       <td>1046.1109</td>\n",
       "</tr>\n",
       "<tr>\n",
       "  <td>Dependent Variable:</td>      <td>Dödade</td>      <td>Log-Likelihood:</td>  <td>-837.98</td> \n",
       "</tr>\n",
       "<tr>\n",
       "         <td>Date:</td>        <td>2020-04-21 09:18</td>    <td>LL-Null:</td>      <td>-2399.1</td> \n",
       "</tr>\n",
       "<tr>\n",
       "   <td>No. Observations:</td>         <td>51</td>           <td>Deviance:</td>     <td>1238.8</td>  \n",
       "</tr>\n",
       "<tr>\n",
       "       <td>Df Model:</td>              <td>1</td>         <td>Pearson chi2:</td>  <td>1.21e+03</td> \n",
       "</tr>\n",
       "<tr>\n",
       "     <td>Df Residuals:</td>           <td>49</td>            <td>Scale:</td>       <td>1.0000</td>  \n",
       "</tr>\n",
       "<tr>\n",
       "        <td>Method:</td>             <td>IRLS</td>              <td></td>             <td></td>     \n",
       "</tr>\n",
       "</table>\n",
       "<table class=\"simpletable\">\n",
       "<tr>\n",
       "      <td></td>       <th>Coef.</th>  <th>Std.Err.</th>     <th>z</th>     <th>P>|z|</th> <th>[0.025</th>  <th>0.975]</th> \n",
       "</tr>\n",
       "<tr>\n",
       "  <th>Intercept</th> <td>42.2371</td>  <td>0.6412</td>   <td>65.8705</td> <td>0.0000</td> <td>40.9803</td> <td>43.4938</td>\n",
       "</tr>\n",
       "<tr>\n",
       "  <th>År</th>        <td>-0.0179</td>  <td>0.0003</td>  <td>-55.2359</td> <td>0.0000</td> <td>-0.0185</td> <td>-0.0173</td>\n",
       "</tr>\n",
       "</table>"
      ],
      "text/plain": [
       "<class 'statsmodels.iolib.summary2.Summary'>\n",
       "\"\"\"\n",
       "              Results: Generalized linear model\n",
       "==============================================================\n",
       "Model:              GLM              AIC:            1679.9524\n",
       "Link Function:      log              BIC:            1046.1109\n",
       "Dependent Variable: Dödade           Log-Likelihood: -837.98  \n",
       "Date:               2020-04-21 09:18 LL-Null:        -2399.1  \n",
       "No. Observations:   51               Deviance:       1238.8   \n",
       "Df Model:           1                Pearson chi2:   1.21e+03 \n",
       "Df Residuals:       49               Scale:          1.0000   \n",
       "Method:             IRLS                                      \n",
       "--------------------------------------------------------------\n",
       "               Coef.  Std.Err.    z     P>|z|   [0.025  0.975]\n",
       "--------------------------------------------------------------\n",
       "Intercept     42.2371   0.6412  65.8705 0.0000 40.9803 43.4938\n",
       "År            -0.0179   0.0003 -55.2359 0.0000 -0.0185 -0.0173\n",
       "==============================================================\n",
       "\n",
       "\"\"\""
      ]
     },
     "execution_count": 16,
     "metadata": {
      "tags": []
     },
     "output_type": "execute_result"
    }
   ],
   "source": [
    "mod1.summary2()"
   ]
  },
  {
   "cell_type": "code",
   "execution_count": 0,
   "metadata": {
    "colab": {},
    "colab_type": "code",
    "id": "r11ZMJPNCA3h"
   },
   "outputs": [],
   "source": [
    "predictions1 = mod1.predict(df)"
   ]
  },
  {
   "cell_type": "code",
   "execution_count": 18,
   "metadata": {
    "colab": {
     "base_uri": "https://localhost:8080/",
     "height": 280
    },
    "colab_type": "code",
    "id": "SWo6lvmACJhJ",
    "outputId": "acdd6ed4-8cfd-4ae1-9698-4c52f53c4d11"
   },
   "outputs": [
    {
     "data": {
      "text/plain": [
       "<matplotlib.collections.PathCollection at 0x7fb4c25d9ba8>"
      ]
     },
     "execution_count": 18,
     "metadata": {
      "tags": []
     },
     "output_type": "execute_result"
    },
    {
     "data": {
      "image/png": "[encoded data removed]",
      "text/plain": [
       "<Figure size 432x288 with 1 Axes>"
      ]
     },
     "metadata": {
      "needs_background": "light",
      "tags": []
     },
     "output_type": "display_data"
    }
   ],
   "source": [
    "plt.scatter(df['År'],df['Dödade'])\n",
    "plt.scatter(df['År'],predictions1)"
   ]
  },
  {
   "cell_type": "markdown",
   "metadata": {
    "colab_type": "text",
    "id": "biO3fIAxSEBn"
   },
   "source": [
    "As we can see above, the year alone does not seem to capture the curve. Let us try some more explanatory variables. But before that let us do something which is essential for statsmodels, i.e. that the column names does not contain spaces and (). We can do that by looping over all column names and replacing the spaces with _ and (,) with _. This type of for loop is called a list comprehension, see https://docs.python.org/3/tutorial/datastructures.html#list-comprehensions."
   ]
  },
  {
   "cell_type": "code",
   "execution_count": 0,
   "metadata": {
    "colab": {},
    "colab_type": "code",
    "id": "l3w9_9MuDHjB"
   },
   "outputs": [],
   "source": [
    "df.columns = [col.replace(' ','_') for col in df.columns]\n",
    "df.columns = [col.replace('(','_').replace(')','_') for col in df.columns]"
   ]
  },
  {
   "cell_type": "markdown",
   "metadata": {
    "colab_type": "text",
    "id": "FtpytkxETNRI"
   },
   "source": [
    "Lets try to include Cars at the end of the year"
   ]
  },
  {
   "cell_type": "code",
   "execution_count": 0,
   "metadata": {
    "colab": {},
    "colab_type": "code",
    "id": "FOb2tp1iCWZg"
   },
   "outputs": [],
   "source": [
    "mod2 = smf.glm(formula=\"Dödade ~ År + Bilar_i_trafik_vid_årets_slut__1000_\",\n",
    "               data=df,\n",
    "               family=sm.families.Poisson()).fit()"
   ]
  },
  {
   "cell_type": "code",
   "execution_count": 21,
   "metadata": {
    "colab": {
     "base_uri": "https://localhost:8080/",
     "height": 303
    },
    "colab_type": "code",
    "id": "rmjcJ2k3FugJ",
    "outputId": "0157c202-9dad-4f82-da5a-e32ed8a7639d"
   },
   "outputs": [
    {
     "data": {
      "text/html": [
       "<table class=\"simpletable\">\n",
       "<caption>Generalized Linear Model Regression Results</caption>\n",
       "<tr>\n",
       "  <th>Dep. Variable:</th>        <td>Dödade</td>      <th>  No. Observations:  </th>  <td>    51</td> \n",
       "</tr>\n",
       "<tr>\n",
       "  <th>Model:</th>                  <td>GLM</td>       <th>  Df Residuals:      </th>  <td>    48</td> \n",
       "</tr>\n",
       "<tr>\n",
       "  <th>Model Family:</th>         <td>Poisson</td>     <th>  Df Model:          </th>  <td>     2</td> \n",
       "</tr>\n",
       "<tr>\n",
       "  <th>Link Function:</th>          <td>log</td>       <th>  Scale:             </th> <td>  1.0000</td>\n",
       "</tr>\n",
       "<tr>\n",
       "  <th>Method:</th>                <td>IRLS</td>       <th>  Log-Likelihood:    </th> <td> -311.72</td>\n",
       "</tr>\n",
       "<tr>\n",
       "  <th>Date:</th>            <td>Tue, 21 Apr 2020</td> <th>  Deviance:          </th> <td>  186.25</td>\n",
       "</tr>\n",
       "<tr>\n",
       "  <th>Time:</th>                <td>09:18:57</td>     <th>  Pearson chi2:      </th>  <td>  187.</td> \n",
       "</tr>\n",
       "<tr>\n",
       "  <th>No. Iterations:</th>          <td>4</td>        <th>                     </th>     <td> </td>   \n",
       "</tr>\n",
       "<tr>\n",
       "  <th>Covariance Type:</th>     <td>nonrobust</td>    <th>                     </th>     <td> </td>   \n",
       "</tr>\n",
       "</table>\n",
       "<table class=\"simpletable\">\n",
       "<tr>\n",
       "                    <td></td>                      <th>coef</th>     <th>std err</th>      <th>z</th>      <th>P>|z|</th>  <th>[0.025</th>    <th>0.975]</th>  \n",
       "</tr>\n",
       "<tr>\n",
       "  <th>Intercept</th>                            <td>  163.2669</td> <td>    3.804</td> <td>   42.923</td> <td> 0.000</td> <td>  155.812</td> <td>  170.722</td>\n",
       "</tr>\n",
       "<tr>\n",
       "  <th>År</th>                                   <td>   -0.0803</td> <td>    0.002</td> <td>  -40.971</td> <td> 0.000</td> <td>   -0.084</td> <td>   -0.076</td>\n",
       "</tr>\n",
       "<tr>\n",
       "  <th>Bilar_i_trafik_vid_årets_slut__1000_</th> <td>    0.0008</td> <td>  2.6e-05</td> <td>   32.257</td> <td> 0.000</td> <td>    0.001</td> <td>    0.001</td>\n",
       "</tr>\n",
       "</table>"
      ],
      "text/plain": [
       "<class 'statsmodels.iolib.summary.Summary'>\n",
       "\"\"\"\n",
       "                 Generalized Linear Model Regression Results                  \n",
       "==============================================================================\n",
       "Dep. Variable:                 Dödade   No. Observations:                   51\n",
       "Model:                            GLM   Df Residuals:                       48\n",
       "Model Family:                 Poisson   Df Model:                            2\n",
       "Link Function:                    log   Scale:                          1.0000\n",
       "Method:                          IRLS   Log-Likelihood:                -311.72\n",
       "Date:                Tue, 21 Apr 2020   Deviance:                       186.25\n",
       "Time:                        09:18:57   Pearson chi2:                     187.\n",
       "No. Iterations:                     4                                         \n",
       "Covariance Type:            nonrobust                                         \n",
       "========================================================================================================\n",
       "                                           coef    std err          z      P>|z|      [0.025      0.975]\n",
       "--------------------------------------------------------------------------------------------------------\n",
       "Intercept                              163.2669      3.804     42.923      0.000     155.812     170.722\n",
       "År                                      -0.0803      0.002    -40.971      0.000      -0.084      -0.076\n",
       "Bilar_i_trafik_vid_årets_slut__1000_     0.0008    2.6e-05     32.257      0.000       0.001       0.001\n",
       "========================================================================================================\n",
       "\"\"\""
      ]
     },
     "execution_count": 21,
     "metadata": {
      "tags": []
     },
     "output_type": "execute_result"
    }
   ],
   "source": [
    "mod2.summary()"
   ]
  },
  {
   "cell_type": "code",
   "execution_count": 0,
   "metadata": {
    "colab": {},
    "colab_type": "code",
    "id": "8nYnyZ8BCf8I"
   },
   "outputs": [],
   "source": [
    "predictions2 = mod2.predict(df)"
   ]
  },
  {
   "cell_type": "code",
   "execution_count": 23,
   "metadata": {
    "colab": {
     "base_uri": "https://localhost:8080/",
     "height": 280
    },
    "colab_type": "code",
    "id": "02N7RRA3CmOm",
    "outputId": "bff6b833-1dbb-4a47-c149-5f0adbeaf9fc"
   },
   "outputs": [
    {
     "data": {
      "text/plain": [
       "<matplotlib.collections.PathCollection at 0x7fb4c25d45c0>"
      ]
     },
     "execution_count": 23,
     "metadata": {
      "tags": []
     },
     "output_type": "execute_result"
    },
    {
     "data": {
      "image/png": "[encoded data removed]",
      "text/plain": [
       "<Figure size 432x288 with 1 Axes>"
      ]
     },
     "metadata": {
      "needs_background": "light",
      "tags": []
     },
     "output_type": "display_data"
    }
   ],
   "source": [
    "plt.scatter(df['År'],df['Dödade'])\n",
    "plt.scatter(df['År'],predictions2)"
   ]
  },
  {
   "cell_type": "markdown",
   "metadata": {
    "colab_type": "text",
    "id": "YgOyvPfZTeGX"
   },
   "source": [
    "This looks much better, but lets see if we can do more, lets try adding Säkherhetsbälte (Seatbelt) and Högertrafik (Right traffic) as a feature"
   ]
  },
  {
   "cell_type": "code",
   "execution_count": 0,
   "metadata": {
    "colab": {},
    "colab_type": "code",
    "id": "fVTYWaj7CnI-"
   },
   "outputs": [],
   "source": [
    "df['Högertrafik'] = (df['År'] > 1969)*1"
   ]
  },
  {
   "cell_type": "code",
   "execution_count": 0,
   "metadata": {
    "colab": {},
    "colab_type": "code",
    "id": "yHqLYMQnGo-B"
   },
   "outputs": [],
   "source": [
    "# You try to write the code\n",
    "\n",
    "mod3 = smf.glm(formula=\"\",\n",
    "               data=df,\n",
    "               family=sm.families.Poisson()).fit()"
   ]
  },
  {
   "cell_type": "code",
   "execution_count": 26,
   "metadata": {
    "colab": {
     "base_uri": "https://localhost:8080/",
     "height": 307
    },
    "colab_type": "code",
    "id": "qfL1gMnJGtID",
    "outputId": "c9eee195-1f7f-45a5-b497-6139ec55812e"
   },
   "outputs": [
    {
     "data": {
      "text/html": [
       "<table class=\"simpletable\">\n",
       "<tr>\n",
       "        <td>Model:</td>               <td>GLM</td>            <td>AIC:</td>       <td>561.4370</td>\n",
       "</tr>\n",
       "<tr>\n",
       "    <td>Link Function:</td>           <td>log</td>            <td>BIC:</td>       <td>-66.6090</td>\n",
       "</tr>\n",
       "<tr>\n",
       "  <td>Dependent Variable:</td>      <td>Dödade</td>      <td>Log-Likelihood:</td>  <td>-275.72</td>\n",
       "</tr>\n",
       "<tr>\n",
       "         <td>Date:</td>        <td>2020-04-21 09:18</td>    <td>LL-Null:</td>      <td>-2399.1</td>\n",
       "</tr>\n",
       "<tr>\n",
       "   <td>No. Observations:</td>         <td>51</td>           <td>Deviance:</td>     <td>114.25</td> \n",
       "</tr>\n",
       "<tr>\n",
       "       <td>Df Model:</td>              <td>4</td>         <td>Pearson chi2:</td>    <td>114.</td>  \n",
       "</tr>\n",
       "<tr>\n",
       "     <td>Df Residuals:</td>           <td>46</td>            <td>Scale:</td>       <td>1.0000</td> \n",
       "</tr>\n",
       "<tr>\n",
       "        <td>Method:</td>             <td>IRLS</td>              <td></td>             <td></td>    \n",
       "</tr>\n",
       "</table>\n",
       "<table class=\"simpletable\">\n",
       "<tr>\n",
       "                    <td></td>                     <th>Coef.</th>  <th>Std.Err.</th>     <th>z</th>     <th>P>|z|</th>  <th>[0.025</th>   <th>0.975]</th> \n",
       "</tr>\n",
       "<tr>\n",
       "  <th>Intercept</th>                            <td>165.7157</td>  <td>4.4415</td>   <td>37.3104</td> <td>0.0000</td> <td>157.0105</td> <td>174.4210</td>\n",
       "</tr>\n",
       "<tr>\n",
       "  <th>År</th>                                    <td>-0.0816</td>  <td>0.0023</td>  <td>-35.6571</td> <td>0.0000</td>  <td>-0.0861</td>  <td>-0.0771</td>\n",
       "</tr>\n",
       "<tr>\n",
       "  <th>Bilar_i_trafik_vid_årets_slut__1000_</th>  <td>0.0009</td>   <td>0.0000</td>   <td>28.2844</td> <td>0.0000</td>  <td>0.0009</td>   <td>0.0010</td> \n",
       "</tr>\n",
       "<tr>\n",
       "  <th>Säkerhetsbälte</th>                        <td>-0.1094</td>  <td>0.0179</td>   <td>-6.1257</td> <td>0.0000</td>  <td>-0.1444</td>  <td>-0.0744</td>\n",
       "</tr>\n",
       "<tr>\n",
       "  <th>Högertrafik</th>                           <td>-0.0829</td>  <td>0.0198</td>   <td>-4.1932</td> <td>0.0000</td>  <td>-0.1217</td>  <td>-0.0442</td>\n",
       "</tr>\n",
       "</table>"
      ],
      "text/plain": [
       "<class 'statsmodels.iolib.summary2.Summary'>\n",
       "\"\"\"\n",
       "                           Results: Generalized linear model\n",
       "========================================================================================\n",
       "Model:                       GLM                       AIC:                     561.4370\n",
       "Link Function:               log                       BIC:                     -66.6090\n",
       "Dependent Variable:          Dödade                    Log-Likelihood:          -275.72 \n",
       "Date:                        2020-04-21 09:18          LL-Null:                 -2399.1 \n",
       "No. Observations:            51                        Deviance:                114.25  \n",
       "Df Model:                    4                         Pearson chi2:            114.    \n",
       "Df Residuals:                46                        Scale:                   1.0000  \n",
       "Method:                      IRLS                                                       \n",
       "----------------------------------------------------------------------------------------\n",
       "                                      Coef.   Std.Err.    z     P>|z|   [0.025   0.975] \n",
       "----------------------------------------------------------------------------------------\n",
       "Intercept                            165.7157   4.4415  37.3104 0.0000 157.0105 174.4210\n",
       "År                                    -0.0816   0.0023 -35.6571 0.0000  -0.0861  -0.0771\n",
       "Bilar_i_trafik_vid_årets_slut__1000_   0.0009   0.0000  28.2844 0.0000   0.0009   0.0010\n",
       "Säkerhetsbälte                        -0.1094   0.0179  -6.1257 0.0000  -0.1444  -0.0744\n",
       "Högertrafik                           -0.0829   0.0198  -4.1932 0.0000  -0.1217  -0.0442\n",
       "========================================================================================\n",
       "\n",
       "\"\"\""
      ]
     },
     "execution_count": 26,
     "metadata": {
      "tags": []
     },
     "output_type": "execute_result"
    }
   ],
   "source": [
    "mod3.summary2()"
   ]
  },
  {
   "cell_type": "code",
   "execution_count": 0,
   "metadata": {
    "colab": {},
    "colab_type": "code",
    "id": "tNrLl372GvxD"
   },
   "outputs": [],
   "source": [
    "predictions3 = mod3.predict(df)"
   ]
  },
  {
   "cell_type": "code",
   "execution_count": 28,
   "metadata": {
    "colab": {
     "base_uri": "https://localhost:8080/",
     "height": 280
    },
    "colab_type": "code",
    "id": "Y-lxZSmpG5hh",
    "outputId": "40238af4-977e-4c56-9682-1918e471819f"
   },
   "outputs": [
    {
     "data": {
      "text/plain": [
       "<matplotlib.collections.PathCollection at 0x7fb4c254a860>"
      ]
     },
     "execution_count": 28,
     "metadata": {
      "tags": []
     },
     "output_type": "execute_result"
    },
    {
     "data": {
      "image/png": "[encoded data removed]",
      "text/plain": [
       "<Figure size 432x288 with 1 Axes>"
      ]
     },
     "metadata": {
      "needs_background": "light",
      "tags": []
     },
     "output_type": "display_data"
    }
   ],
   "source": [
    "plt.scatter(df['År'],df['Dödade'])\n",
    "plt.scatter(df['År'],predictions3)"
   ]
  },
  {
   "cell_type": "markdown",
   "metadata": {
    "colab_type": "text",
    "id": "rNCJ0ugFT345"
   },
   "source": [
    "Now we are getting very close, lets see what happens when we add the amount of petrol consumption (Assuming that the mean fuel consumption of a car has been constant over the years — a 1970-year model of a Volvo used about 10l per 100 km which is approximately the same as for a model from, say year 2000. However, the engine of the model from 2000 probably has more horsepower.)."
   ]
  },
  {
   "cell_type": "code",
   "execution_count": 29,
   "metadata": {
    "colab": {
     "base_uri": "https://localhost:8080/",
     "height": 98
    },
    "colab_type": "code",
    "id": "7mHYv5coUUw7",
    "outputId": "3f699a24-4739-4166-ab39-060b37f48502"
   },
   "outputs": [
    {
     "data": {
      "text/plain": [
       "Index(['År', 'Dödade', 'Skadade', 'Varav_svårt_skadade',\n",
       "       'Bilar_i_trafik_vid_årets_slut__1000_', 'Bensinleveranser__1000_m3_',\n",
       "       'Invånare_vid_årets_slut__1000_', 'Dödade_per_100_000_Bilar',\n",
       "       'Dödade_per_100_000_Invånare', 'Säkerhetsbälte', 'Högertrafik'],\n",
       "      dtype='object')"
      ]
     },
     "execution_count": 29,
     "metadata": {
      "tags": []
     },
     "output_type": "execute_result"
    }
   ],
   "source": [
    "df.columns"
   ]
  },
  {
   "cell_type": "markdown",
   "metadata": {},
   "source": [
    "It's now time for you to do the work\n",
    "* Write the code to:\n",
    "    * Fit the model and store into variable mod4\n",
    "    * Print the model summary\n",
    "    * Do a scatter plot with the true values and the predicted values as you have seen for mod1-3"
   ]
  },
  {
   "cell_type": "markdown",
   "metadata": {
    "colab_type": "text",
    "id": "BSRqPokCUu3J"
   },
   "source": [
    "Does it look familiar? Did we do any better with that information?"
   ]
  },
  {
   "cell_type": "markdown",
   "metadata": {
    "colab_type": "text",
    "id": "idbxTs4UU40o"
   },
   "source": [
    "# Model selection - deviance\n",
    "It is not always easy to decide, just by looking at a plot, which model to choose. Even though adding more variables improves the fit, it also increases the uncertainty of the estimates. One method to choose complexity of the model is to use the deviance and a hypothesis test. Let $\\beta^\\ast_{\\bf p} = (\\beta^\\ast_0,\\beta^\\ast_1,\\ldots,\\beta^\\ast_p)$ be the ML estimates of the model parameters $\\beta_0,\\beta_1,\\ldots,\\beta_p$ of the full model with p explanatory variables and $\\beta^\\ast_{\\bf q}$ the estimates of a simpler model where only q (where q < p) of the explanatory variables have been used. Then for large k, and under suitable regularity conditions, the deviance\n",
    "$$\n",
    "  \\text{DEV} = 2 (l(\\beta^\\ast_{\\bf p}) - l(\\beta^\\ast_{\\bf q}))\n",
    "$$\n",
    "is approximately $\\chi^2(p-q)$ distributed if the less complex model is true. Thus, it is pos- sible to test if the simpler model can be rejected compared to the full model. Quantiles can be found from tables or by **scipy.stats.chi2.ppf**"
   ]
  },
  {
   "cell_type": "markdown",
   "metadata": {
    "colab_type": "text",
    "id": "1sBWNUc7hGdX"
   },
   "source": [
    "Thus if $\\text{DEV} > \\chi^2_\\alpha (p-q)$, the difference between log-likelihoods cannot be explained by the statistical variability and hence the simpler model should be rejected. In other words, the more complex model fits data significantly better.\n",
    "\n",
    "Let us compute this using Eq. (7.14) from the book i.e.\n",
    "$$\n",
    "  \\text{DEV} = 2 \\sum_{i=1}^k n_i (\\ln(\\mu^\\ast_{iC})-\\ln(\\mu^\\ast_{iS})\n",
    "$$\n",
    "In the above the C corresponds to complex and S corresponds to simple."
   ]
  },
  {
   "cell_type": "code",
   "execution_count": 45,
   "metadata": {
    "colab": {
     "base_uri": "https://localhost:8080/",
     "height": 32
    },
    "colab_type": "code",
    "id": "FANjhxRgG73H",
    "outputId": "57c553ec-eaec-46b3-edfe-adeb2ddefc51"
   },
   "outputs": [
    {
     "data": {
      "text/plain": [
       "1052.5204864831048"
      ]
     },
     "execution_count": 45,
     "metadata": {
      "tags": []
     },
     "output_type": "execute_result"
    }
   ],
   "source": [
    "import numpy as np\n",
    "2*np.sum(df['Dödade']*np.log(predictions2)-df['Dödade']*np.log(predictions1))\n",
    "# For you who are not so familiar with numpy, the np.log is just the \n",
    "# natural logarithm applied to each element in the array.\n",
    "# Also all multiplication is elementwise, so its like .* in Matlab"
   ]
  },
  {
   "cell_type": "code",
   "execution_count": 0,
   "metadata": {
    "colab": {},
    "colab_type": "code",
    "id": "mRCARjNGEogx"
   },
   "outputs": [],
   "source": [
    "import scipy.stats as ss\n",
    "# ss.chi2.ppf\n",
    "# ppf(q, df, loc=0, scale=1)\n",
    "# Percent point function (inverse of cdf — percentiles).\n",
    "# ss.chi2.ppf(q=1-alpha,df=df) represents a the alpha quantile of a chi2 r.v. \n",
    "# with df degrees of freedom."
   ]
  },
  {
   "cell_type": "markdown",
   "metadata": {
    "colab_type": "text",
    "id": "A0SRSj7uFQBy"
   },
   "source": [
    "Use the above mentioned `ss.chi2.ppf` to compute the quantile for comparing `mod1` to `mod2` with the deviance computation above. Can we reject the simpler model that only uses Year in favor of a model that uses Year and number of cars?"
   ]
  },
  {
   "cell_type": "markdown",
   "metadata": {
    "colab_type": "text",
    "id": "LkKV-DuGFrJo"
   },
   "source": [
    "### More model selection\n",
    "Do the same for `mod2` vs `mod3` and `mod3` vs `mod4`, what is your final conclusion?"
   ]
  },
  {
   "cell_type": "markdown",
   "metadata": {},
   "source": [
    "# Conclusion\n",
    "\n",
    "Is the Poisson regression model doing a good job of describing the number of people killed in traffic?"
   ]
  }
 ],
 "metadata": {
  "colab": {
   "collapsed_sections": [],
   "name": "Computer lab.ipynb",
   "provenance": []
  },
  "kernelspec": {
   "display_name": "Python 3",
   "language": "python",
   "name": "python3"
  },
  "language_info": {
   "codemirror_mode": {
    "name": "ipython",
    "version": 3
   },
   "file_extension": ".py",
   "mimetype": "text/x-python",
   "name": "python",
   "nbconvert_exporter": "python",
   "pygments_lexer": "ipython3",
   "version": "3.6.9"
  }
 },
 "nbformat": 4,
 "nbformat_minor": 1
}
