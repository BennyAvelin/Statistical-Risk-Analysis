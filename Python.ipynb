{
 "cells": [
  {
   "cell_type": "markdown",
   "metadata": {
    "hideCode": false,
    "hidePrompt": false
   },
   "source": [
    "# Python & Jupyter\n",
    "\n",
    "This is a quick introduction to the basics of Python. What you are currently looking at is the interface that we will be using, it is called Jupyter. It is a notebook style system that can run several different languanges (Julia, Python, R + others). Each notebook is divided into cells and cells can have two types (at least), text and code. This cell is a text cell, and the cell below is a code cell.\n",
    "\n",
    "To select a cell you simply click on it, a selected cell has a blue frame and when you are in edit mode it is a green frame. If its blue press enter and it will enter edit mode.\n",
    "\n",
    "To run a cell you can either press the button on the tool list above called \"run\" or you can after you have selected a cell, press shift+enter.\n",
    "\n",
    "Lets see what happens when we execute a code-cell"
   ]
  },
  {
   "cell_type": "code",
   "execution_count": null,
   "metadata": {
    "hideCode": false,
    "hidePrompt": false
   },
   "outputs": [],
   "source": [
    "1 + 2"
   ]
  },
  {
   "cell_type": "markdown",
   "metadata": {
    "hideCode": false,
    "hidePrompt": false
   },
   "source": [
    "As expected the output is shown in the area below the cell. But let us look at what happens when we do two calculations."
   ]
  },
  {
   "cell_type": "code",
   "execution_count": null,
   "metadata": {
    "hideCode": false,
    "hidePrompt": false
   },
   "outputs": [],
   "source": [
    "2 + 2\n",
    "1 + 2"
   ]
  },
  {
   "cell_type": "markdown",
   "metadata": {
    "hideCode": false,
    "hidePrompt": false
   },
   "source": [
    "* This is maybe not what you would expect, but in a cell we can do many computations that we are not interested in seeing its result.\n",
    "* Jupyter only outputs the last result\n",
    "* If you want to see a calculation that happens somewhere in the middle of the cell you can use the ``print`` function."
   ]
  },
  {
   "cell_type": "markdown",
   "metadata": {
    "hideCode": false,
    "hidePrompt": false
   },
   "source": [
    "**Example**\n",
    "\n",
    "Can you explain the difference in output from the following two cells?"
   ]
  },
  {
   "cell_type": "code",
   "execution_count": null,
   "metadata": {
    "hideCode": false,
    "hidePrompt": false
   },
   "outputs": [],
   "source": [
    "print(2 * 3)\n",
    "print(1 - 2)\n",
    "1 + 2"
   ]
  },
  {
   "cell_type": "code",
   "execution_count": null,
   "metadata": {
    "hideCode": false,
    "hidePrompt": false
   },
   "outputs": [],
   "source": [
    "print(2 * 3)\n",
    "print(1 - 2)\n",
    "print(1 + 2)"
   ]
  },
  {
   "cell_type": "markdown",
   "metadata": {
    "hideCode": false,
    "hidePrompt": false
   },
   "source": [
    "# To program in python\n",
    "\n",
    "### Intro\n",
    "\n",
    "* Python is a high level, generic programming language\n",
    "* Designed to be simple to use, simplicity superceeds speed.\n",
    "* Python is therefore significantly slower than for instance C.\n",
    "\n",
    "**Pythonversions**\n",
    "\n",
    "* There are two python dialects that are in use today\n",
    "* * Python2 \n",
    "* * Python3\n",
    "* The syntax in Python 2 vs 3 is slightly different. We will be using Python 3."
   ]
  },
  {
   "cell_type": "markdown",
   "metadata": {
    "hideCode": false,
    "hidePrompt": false
   },
   "source": [
    "### First steps\n",
    "\n",
    "#### Arithmetic operations\n",
    "\n",
    "A list of operations\n",
    "\n",
    "- Addition: ``+``\n",
    "- Subtraction: ``-``\n",
    "- Multiplication: ``*``\n",
    "- Division: ``/``\n",
    "- Integer division ``//``\n",
    "- Modulo ``%``\n",
    "- Power ``**``\n",
    "\n",
    "These operators follows standard rules of priority from mathematics. If you want to change these priorities you have to use parenthesis ``(``, ``)``.\n",
    "\n",
    "**Example**\n",
    "\n",
    "Look at the following different ways of using parenthesises."
   ]
  },
  {
   "cell_type": "code",
   "execution_count": null,
   "metadata": {
    "hideCode": false,
    "hidePrompt": false
   },
   "outputs": [],
   "source": [
    "print('3 + 4**12 % 10 = ', 3 + 4**12 % 10)\n",
    "print('(3 + 4)**12 % 10 = ', (3 + 4)**12 % 10)\n",
    "print('(3 + 4)**(12 % 10) = ', (3 + 4)**(12 % 10))\n",
    "print('3 + 4**(12 % 10) = ', 3 + 4**(12%10))"
   ]
  },
  {
   "cell_type": "markdown",
   "metadata": {},
   "source": [
    "#### Numbers\n",
    "\n",
    "* ``int``, integers\n",
    "* ``float``, floating point numbers\n",
    "* Often you dont have to care, but sometimes it is useful to know a type\n",
    "* If you want to know the type of something you can use the ``type`` function. "
   ]
  },
  {
   "cell_type": "code",
   "execution_count": null,
   "metadata": {},
   "outputs": [],
   "source": [
    "print(type(2.0))\n",
    "print(type(2))"
   ]
  },
  {
   "cell_type": "markdown",
   "metadata": {},
   "source": [
    "Convert an int to float."
   ]
  },
  {
   "cell_type": "code",
   "execution_count": null,
   "metadata": {},
   "outputs": [],
   "source": [
    "float(3)"
   ]
  },
  {
   "cell_type": "markdown",
   "metadata": {},
   "source": [
    "Convert float to int."
   ]
  },
  {
   "cell_type": "code",
   "execution_count": null,
   "metadata": {},
   "outputs": [],
   "source": [
    "int(3.2)"
   ]
  },
  {
   "cell_type": "markdown",
   "metadata": {},
   "source": [
    "The result of an arithmetic operation between a float and an int will automatically be a float."
   ]
  },
  {
   "cell_type": "code",
   "execution_count": null,
   "metadata": {},
   "outputs": [],
   "source": [
    "3.0*2"
   ]
  },
  {
   "cell_type": "code",
   "execution_count": null,
   "metadata": {},
   "outputs": [],
   "source": [
    "3.0-3"
   ]
  },
  {
   "cell_type": "code",
   "execution_count": null,
   "metadata": {},
   "outputs": [],
   "source": [
    "3/2"
   ]
  },
  {
   "cell_type": "markdown",
   "metadata": {
    "hideCode": false,
    "hidePrompt": false
   },
   "source": [
    "#### Variables\n",
    "\n",
    "* In some low-level languages, one thinks of variables as a bucket that can store a value\n",
    "* In Python it is more true to think of them as specific objects, and let the computer care about how to store that object in memory.\n",
    "* To create a variable (name an object) we will use the assignment operator ``=``."
   ]
  },
  {
   "cell_type": "code",
   "execution_count": null,
   "metadata": {},
   "outputs": [],
   "source": [
    "number"
   ]
  },
  {
   "cell_type": "code",
   "execution_count": null,
   "metadata": {
    "hideCode": false,
    "hidePrompt": false
   },
   "outputs": [],
   "source": [
    "number = 3.0"
   ]
  },
  {
   "cell_type": "markdown",
   "metadata": {
    "hideCode": false,
    "hidePrompt": false
   },
   "source": [
    "An important property of Jupyter is that a variable is now defined in the entire notebook, i.e. you can use it in whatever cell, even above."
   ]
  },
  {
   "cell_type": "code",
   "execution_count": null,
   "metadata": {
    "hideCode": false,
    "hidePrompt": false
   },
   "outputs": [],
   "source": [
    "print(number)"
   ]
  },
  {
   "cell_type": "markdown",
   "metadata": {
    "hideCode": false,
    "hidePrompt": false
   },
   "source": [
    "* This is practical sometimes but often leads to mistakes, it is easiest to keep to the natural order.\n",
    "\n",
    "\n",
    "**Example**\n",
    "\n",
    "Let us use the variables ``height``, ``weight`` to calculate a new variable ``bmi``."
   ]
  },
  {
   "cell_type": "code",
   "execution_count": null,
   "metadata": {
    "hideCode": false,
    "hidePrompt": false
   },
   "outputs": [],
   "source": [
    "height = 1.80\n",
    "weight = 75"
   ]
  },
  {
   "cell_type": "code",
   "execution_count": null,
   "metadata": {
    "hideCode": false,
    "hidePrompt": false
   },
   "outputs": [],
   "source": [
    "bmi = weight/height**2"
   ]
  },
  {
   "cell_type": "code",
   "execution_count": null,
   "metadata": {
    "hideCode": false,
    "hidePrompt": false
   },
   "outputs": [],
   "source": [
    "bmi"
   ]
  },
  {
   "cell_type": "markdown",
   "metadata": {
    "hideCode": false,
    "hidePrompt": false
   },
   "source": [
    "The rules for naming variables are\n",
    "\n",
    "- Variable names can only contain letters (a - z, A - Z), numbers (0 - 9) or underscore (_).\n",
    "- Variable names cannot begin with a number.\n",
    "- Variables cannot share names with Python keywords.\n",
    "\n",
    "If you break any of these rules you will get an error message that can be more or less helpful\n",
    "\n",
    "**Example**"
   ]
  },
  {
   "cell_type": "code",
   "execution_count": null,
   "metadata": {},
   "outputs": [],
   "source": [
    "3times3 = 9"
   ]
  },
  {
   "cell_type": "markdown",
   "metadata": {
    "hideCode": false,
    "hidePrompt": false
   },
   "source": [
    "This is the full list of keywords\n",
    "\n",
    "``False``, ``None``, ``True``, ``and``, ``as``,\n",
    "``assert``, ``async``, ``await``, ``break``, ``class``,\n",
    "``continue``, ``def``, ``del``, ``elif``, ``else``,\n",
    "``except``, ``finally``, ``for``, ``from``, ``global``,\n",
    "``if``, ``import``, ``in``, ``is``, ``lambda``,\n",
    "``nonlocal``, ``not``, ``or``, ``pass``, ``raise``,\n",
    "``return``, ``try``, ``while``, ``with``, ``yield``"
   ]
  },
  {
   "cell_type": "markdown",
   "metadata": {
    "hideCode": false,
    "hidePrompt": false
   },
   "source": [
    "### Functions"
   ]
  },
  {
   "cell_type": "markdown",
   "metadata": {
    "hideCode": false,
    "hidePrompt": false
   },
   "source": [
    "* Functions are a way to structure and name a block of code\n",
    "* To repeat code means that there is lots of room for error, so its often good to use function, i.e. do not repeat yourself (DRY).\n",
    "\n",
    "### Example"
   ]
  },
  {
   "cell_type": "code",
   "execution_count": null,
   "metadata": {
    "hideCode": false,
    "hidePrompt": false
   },
   "outputs": [],
   "source": [
    "def calculate_bmi(height, weight):\n",
    "     bmi = weight / height**2\n",
    "     return bmi"
   ]
  },
  {
   "cell_type": "code",
   "execution_count": null,
   "metadata": {
    "hideCode": false,
    "hidePrompt": false
   },
   "outputs": [],
   "source": [
    "print(calculate_bmi(1.80, 75))\n",
    "print(calculate_bmi(1.65, 70))\n",
    "print(calculate_bmi(1.80, 100))"
   ]
  },
  {
   "cell_type": "markdown",
   "metadata": {
    "hideCode": false,
    "hidePrompt": false
   },
   "source": [
    "* Functions start with a ``def``, this tells python you are about to define a function\n",
    "* After that is the name of the function ``calculate_bmi``\n",
    "* Then its ``(...)``, and in there is the name of all the parameters of the function\n",
    "* End the line with a ``:``.\n",
    "* The body of the function is defined through indentation of the second row, normally we use **4 spaces**, in Jupyter you can press the tab button.\n",
    "* Lastly we end the definition of the function with a ``return`` statement, which becomes the value of the function that it returns. But you can also end the function without return if the function should not return a value.\n",
    "\n",
    "**Exercise**\n",
    "\n",
    "Whats the result of the following function?\n",
    "\n",
    "```python\n",
    "def my_function(parameter):\n",
    "    result = 2 / parameter\n",
    "    return result\n",
    "```"
   ]
  },
  {
   "cell_type": "code",
   "execution_count": null,
   "metadata": {},
   "outputs": [],
   "source": [
    "def my_function(parameter):\n",
    "    result = 2 / parameter\n",
    "    return result\n",
    "\n",
    "my_function(4)"
   ]
  },
  {
   "cell_type": "code",
   "execution_count": null,
   "metadata": {},
   "outputs": [],
   "source": [
    "def fun(par=2):\n",
    "    return par"
   ]
  },
  {
   "cell_type": "code",
   "execution_count": null,
   "metadata": {},
   "outputs": [],
   "source": [
    "fun()"
   ]
  },
  {
   "cell_type": "code",
   "execution_count": null,
   "metadata": {},
   "outputs": [],
   "source": [
    "fun(3)"
   ]
  },
  {
   "cell_type": "markdown",
   "metadata": {
    "hideCode": false,
    "hidePrompt": false
   },
   "source": [
    "### ``If`` and ``else`` statements\n",
    "\n",
    "* When programming it is often useful to control the flow of a program based on different conditions, this is done with ``if`` and ``else``."
   ]
  },
  {
   "cell_type": "code",
   "execution_count": null,
   "metadata": {},
   "outputs": [],
   "source": [
    "x = 2\n",
    "\n",
    "if x < 2:\n",
    "    print('x is less than 2')\n",
    "else:\n",
    "    print('x is greater than or equal to 2')"
   ]
  },
  {
   "cell_type": "markdown",
   "metadata": {},
   "source": [
    "What happens when $x < 2$. "
   ]
  },
  {
   "cell_type": "code",
   "execution_count": null,
   "metadata": {},
   "outputs": [],
   "source": [
    "x = 1\n",
    "\n",
    "if x < 2:\n",
    "    print('x is less than 2')\n",
    "else:\n",
    "    print('x is greater than or equal to 2')"
   ]
  },
  {
   "cell_type": "markdown",
   "metadata": {},
   "source": [
    "One can also have more than two conditions by combining ``if``, ``elif`` (means \"else if\") and ``else``."
   ]
  },
  {
   "cell_type": "code",
   "execution_count": null,
   "metadata": {},
   "outputs": [],
   "source": [
    "x = 1\n",
    "\n",
    "if x < 2:\n",
    "    print('x is less than 2')\n",
    "elif x==2:\n",
    "    print('x is equal to 2')\n",
    "else:\n",
    "    print('x is greater than or equal to 2')"
   ]
  },
  {
   "cell_type": "markdown",
   "metadata": {},
   "source": [
    "If the expression that follows the ``if`` keyword is true, then the block after will be executed, otherwise that block will be skipped\n",
    "\n",
    "* ``if`` statement has to end with a :"
   ]
  },
  {
   "cell_type": "markdown",
   "metadata": {
    "hideCode": false,
    "hidePrompt": false
   },
   "source": [
    "### Collections\n",
    "\n",
    "It is often necessary to work with collections of objects, python has the following collections built into the language\n",
    "\n",
    "- Lists\n",
    "- Tuples\n",
    "- Strings\n",
    "- Dictionaries\n",
    "\n",
    "#### Lists\n",
    "\n",
    "* A list is an ordered collection of objects. These objects can be number or other objects, we can also mix types."
   ]
  },
  {
   "cell_type": "code",
   "execution_count": null,
   "metadata": {
    "hideCode": false,
    "hidePrompt": false
   },
   "outputs": [],
   "source": [
    "my_list = [1, 2, 3.0, 4, 5, 'list element']\n",
    "my_list"
   ]
  },
  {
   "cell_type": "markdown",
   "metadata": {
    "hideCode": false,
    "hidePrompt": false
   },
   "source": [
    "To access an element in the list we will use indexation, note that the indexation starts at 0."
   ]
  },
  {
   "cell_type": "code",
   "execution_count": null,
   "metadata": {
    "hideCode": false,
    "hidePrompt": false
   },
   "outputs": [],
   "source": [
    "print(my_list[0])\n",
    "print(my_list[5])"
   ]
  },
  {
   "cell_type": "markdown",
   "metadata": {
    "hideCode": false,
    "hidePrompt": false
   },
   "source": [
    "To index elements from the end of the list we can use negative indexes, [-1] means the last element"
   ]
  },
  {
   "cell_type": "code",
   "execution_count": null,
   "metadata": {
    "hideCode": false,
    "hidePrompt": false
   },
   "outputs": [],
   "source": [
    "print(my_list[-1])\n",
    "print(my_list[-2])"
   ]
  },
  {
   "cell_type": "markdown",
   "metadata": {
    "hideCode": false,
    "hidePrompt": false
   },
   "source": [
    "To get more elements at once, we can use the ``slice`` operator ``:``."
   ]
  },
  {
   "cell_type": "code",
   "execution_count": null,
   "metadata": {
    "hideCode": false,
    "hidePrompt": false
   },
   "outputs": [],
   "source": [
    "print(my_list[:3])\n",
    "print(my_list[1:3])\n",
    "print(my_list[:-1])\n",
    "print(my_list[2:])"
   ]
  },
  {
   "cell_type": "code",
   "execution_count": null,
   "metadata": {},
   "outputs": [],
   "source": [
    "my_list[1::2]"
   ]
  },
  {
   "cell_type": "markdown",
   "metadata": {
    "hideCode": false,
    "hidePrompt": false
   },
   "source": [
    "A list is a mutable (changeable) data type. This meas that you can change the content of the list."
   ]
  },
  {
   "cell_type": "code",
   "execution_count": null,
   "metadata": {
    "hideCode": false,
    "hidePrompt": false
   },
   "outputs": [],
   "source": [
    "my_list[0]=-1\n",
    "print(my_list)"
   ]
  },
  {
   "cell_type": "markdown",
   "metadata": {
    "hideCode": false,
    "hidePrompt": false
   },
   "source": [
    "We can add an element to the list by using the ``append`` function"
   ]
  },
  {
   "cell_type": "code",
   "execution_count": null,
   "metadata": {
    "hideCode": false,
    "hidePrompt": false
   },
   "outputs": [],
   "source": [
    "my_list.append(-3)\n",
    "print(my_list)"
   ]
  },
  {
   "cell_type": "markdown",
   "metadata": {
    "hideCode": false,
    "hidePrompt": false
   },
   "source": [
    "* The length of a list can be obtained using the ``len`` function."
   ]
  },
  {
   "cell_type": "code",
   "execution_count": null,
   "metadata": {
    "hideCode": false,
    "hidePrompt": false
   },
   "outputs": [],
   "source": [
    "len(my_list)"
   ]
  },
  {
   "cell_type": "markdown",
   "metadata": {
    "hideCode": false,
    "hidePrompt": false
   },
   "source": [
    "**Exercise**\n",
    "\n",
    "Whats the length of the following list?"
   ]
  },
  {
   "cell_type": "code",
   "execution_count": null,
   "metadata": {
    "hideCode": false,
    "hidePrompt": false
   },
   "outputs": [],
   "source": [
    "complex_list = [1, 2, [1,2,3], 4]"
   ]
  },
  {
   "cell_type": "markdown",
   "metadata": {
    "hideCode": false,
    "hidePrompt": false
   },
   "source": [
    "We can do some arithemtic operations on lists, for instance\n",
    "\n",
    "**Example**"
   ]
  },
  {
   "cell_type": "code",
   "execution_count": null,
   "metadata": {
    "hideCode": false,
    "hidePrompt": false
   },
   "outputs": [],
   "source": [
    "first_list = [1,2]\n",
    "second_list = [3.14159, 100]\n",
    "first_list + second_list"
   ]
  },
  {
   "cell_type": "code",
   "execution_count": null,
   "metadata": {
    "hideCode": false,
    "hidePrompt": false
   },
   "outputs": [],
   "source": [
    "3*[1,2]"
   ]
  },
  {
   "cell_type": "markdown",
   "metadata": {
    "hideCode": false,
    "hidePrompt": false
   },
   "source": [
    "#### Tuples"
   ]
  },
  {
   "cell_type": "markdown",
   "metadata": {
    "hideCode": false,
    "hidePrompt": false
   },
   "source": [
    "* Sometimes one needs to be certain that elements in a list cannot be changed, for this reason there exists Tuples"
   ]
  },
  {
   "cell_type": "code",
   "execution_count": null,
   "metadata": {
    "hideCode": false,
    "hidePrompt": false
   },
   "outputs": [],
   "source": [
    "my_tuple = (1, 2, 4.5, 3)\n",
    "my_tuple"
   ]
  },
  {
   "cell_type": "markdown",
   "metadata": {
    "hideCode": false,
    "hidePrompt": false
   },
   "source": [
    "You can also easily create tuples from a list."
   ]
  },
  {
   "cell_type": "code",
   "execution_count": null,
   "metadata": {
    "hideCode": false,
    "hidePrompt": false
   },
   "outputs": [],
   "source": [
    "tuple(my_list)"
   ]
  },
  {
   "cell_type": "markdown",
   "metadata": {
    "hideCode": false,
    "hidePrompt": false
   },
   "source": [
    "Similiarly you can also convert tuples into lists."
   ]
  },
  {
   "cell_type": "code",
   "execution_count": null,
   "metadata": {
    "hideCode": false,
    "hidePrompt": false
   },
   "outputs": [],
   "source": [
    "list(my_tuple)"
   ]
  },
  {
   "cell_type": "markdown",
   "metadata": {
    "hideCode": false,
    "hidePrompt": false
   },
   "source": [
    "Tuples work exactly like lists. The only difference between lists and tuples is that tuples cannot be changed. If you try to do that, you'll get an error. "
   ]
  },
  {
   "cell_type": "code",
   "execution_count": null,
   "metadata": {},
   "outputs": [],
   "source": [
    "my_tuple[0] = 1"
   ]
  },
  {
   "cell_type": "markdown",
   "metadata": {
    "hideCode": false,
    "hidePrompt": false
   },
   "source": [
    "**Exercise**\n",
    "\n",
    "Why is this not a contradiction?"
   ]
  },
  {
   "cell_type": "code",
   "execution_count": null,
   "metadata": {
    "hideCode": false,
    "hidePrompt": false
   },
   "outputs": [],
   "source": [
    "my_tuple + (1, 0.0, 15)"
   ]
  },
  {
   "cell_type": "markdown",
   "metadata": {
    "hideCode": false,
    "hidePrompt": false
   },
   "source": [
    "#### Strings\n",
    "\n",
    "* Strings are objects that store text. We can create them with simple, ``'`` or double ``\"``."
   ]
  },
  {
   "cell_type": "code",
   "execution_count": null,
   "metadata": {
    "hideCode": false,
    "hidePrompt": false
   },
   "outputs": [],
   "source": [
    "my_first_string = 'Hello, '\n",
    "print(my_first_string)\n",
    "my_second_string = \"World!\"\n",
    "print(my_second_string)"
   ]
  },
  {
   "cell_type": "markdown",
   "metadata": {
    "hideCode": false,
    "hidePrompt": false
   },
   "source": [
    "Strings can be handled as Tuples"
   ]
  },
  {
   "cell_type": "code",
   "execution_count": null,
   "metadata": {
    "hideCode": false,
    "hidePrompt": false
   },
   "outputs": [],
   "source": [
    "print(my_first_string + my_second_string)\n",
    "print(my_first_string[-4:-2] + my_second_string[-3:-2])"
   ]
  },
  {
   "cell_type": "markdown",
   "metadata": {},
   "source": [
    "#### Dictionaries\n",
    "\n",
    "* A ``dictionary`` is an unordered collection, that is mutable and has an index. \n",
    "* A lists element can be retrieved from its position in the list while in a dictionary you use a key."
   ]
  },
  {
   "cell_type": "code",
   "execution_count": null,
   "metadata": {},
   "outputs": [],
   "source": [
    "my_first_dict = {\n",
    "  \"Sweden\": \"Stockholm\",\n",
    "  \"France\": \"Paris\",\n",
    "  \"Italy\": \"Rome\"\n",
    "}\n",
    "print(my_first_dict)"
   ]
  },
  {
   "cell_type": "code",
   "execution_count": null,
   "metadata": {},
   "outputs": [],
   "source": [
    "my_first_dict['Sweden']"
   ]
  },
  {
   "cell_type": "markdown",
   "metadata": {},
   "source": [
    "Listing all the keys"
   ]
  },
  {
   "cell_type": "code",
   "execution_count": null,
   "metadata": {},
   "outputs": [],
   "source": [
    "my_first_dict.keys()"
   ]
  },
  {
   "cell_type": "markdown",
   "metadata": {},
   "source": [
    "You can modify a dictionary"
   ]
  },
  {
   "cell_type": "code",
   "execution_count": null,
   "metadata": {},
   "outputs": [],
   "source": [
    "my_first_dict['Italy']='Milano'\n",
    "print(my_first_dict)"
   ]
  },
  {
   "cell_type": "markdown",
   "metadata": {},
   "source": [
    "We can add elements"
   ]
  },
  {
   "cell_type": "code",
   "execution_count": null,
   "metadata": {},
   "outputs": [],
   "source": [
    "my_first_dict['Spain']='Madrid'\n",
    "print(my_first_dict)"
   ]
  },
  {
   "cell_type": "markdown",
   "metadata": {},
   "source": [
    "### ``For`` Loops\n",
    "\n",
    "* Sometimes one needs to iterate over a sequence, for example list/string/tuple...\n",
    "* For loops are slow but for small problems they are indispensible"
   ]
  },
  {
   "cell_type": "code",
   "execution_count": null,
   "metadata": {},
   "outputs": [],
   "source": [
    "for x in my_first_dict:\n",
    "    print(x)"
   ]
  },
  {
   "cell_type": "markdown",
   "metadata": {},
   "source": [
    "Note that we can loop over a list, which also means that one does not change the list"
   ]
  },
  {
   "cell_type": "code",
   "execution_count": null,
   "metadata": {},
   "outputs": [],
   "source": [
    "my_list = [2,3,5.0,10]\n",
    "print('my_list: ', my_list)\n",
    "for x in my_list:\n",
    "    print('x = ', x)\n",
    "    x = x**2\n",
    "    print('x**2 = ', x)\n",
    "print('my_list: ', my_list)"
   ]
  },
  {
   "cell_type": "markdown",
   "metadata": {},
   "source": [
    "Compare"
   ]
  },
  {
   "cell_type": "code",
   "execution_count": null,
   "metadata": {
    "scrolled": true
   },
   "outputs": [],
   "source": [
    "print('my_list: ', my_list)\n",
    "for i in range(len(my_list)):\n",
    "    print('x = ', my_list[i])\n",
    "    my_list[i] = my_list[i]**2\n",
    "    print('x**2 = ', my_list[i])\n",
    "print('my_list: ', my_list)"
   ]
  },
  {
   "cell_type": "markdown",
   "metadata": {},
   "source": [
    "A ``for`` loop statement ends with ``:``"
   ]
  }
 ],
 "metadata": {
  "hide_code_all_hidden": false,
  "kernelspec": {
   "display_name": "Python 3",
   "language": "python",
   "name": "python3"
  },
  "language_info": {
   "codemirror_mode": {
    "name": "ipython",
    "version": 3
   },
   "file_extension": ".py",
   "mimetype": "text/x-python",
   "name": "python",
   "nbconvert_exporter": "python",
   "pygments_lexer": "ipython3",
   "version": "3.6.9"
  }
 },
 "nbformat": 4,
 "nbformat_minor": 2
}
