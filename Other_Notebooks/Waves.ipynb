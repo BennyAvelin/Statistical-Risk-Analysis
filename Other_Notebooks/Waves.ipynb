{
 "cells": [
  {
   "cell_type": "code",
   "execution_count": 1,
   "metadata": {},
   "outputs": [],
   "source": [
    "library(MASS)"
   ]
  },
  {
   "cell_type": "code",
   "execution_count": 2,
   "metadata": {},
   "outputs": [],
   "source": [
    "data(ships)"
   ]
  },
  {
   "cell_type": "code",
   "execution_count": 3,
   "metadata": {
    "scrolled": true
   },
   "outputs": [
    {
     "data": {
      "text/html": [
       "<table>\n",
       "<caption>A data.frame: 40 x 5</caption>\n",
       "<thead>\n",
       "\t<tr><th></th><th scope=col>type</th><th scope=col>year</th><th scope=col>period</th><th scope=col>service</th><th scope=col>incidents</th></tr>\n",
       "\t<tr><th></th><th scope=col>&lt;fct&gt;</th><th scope=col>&lt;int&gt;</th><th scope=col>&lt;int&gt;</th><th scope=col>&lt;int&gt;</th><th scope=col>&lt;int&gt;</th></tr>\n",
       "</thead>\n",
       "<tbody>\n",
       "\t<tr><th scope=row>1</th><td>A</td><td>60</td><td>60</td><td>  127</td><td> 0</td></tr>\n",
       "\t<tr><th scope=row>2</th><td>A</td><td>60</td><td>75</td><td>   63</td><td> 0</td></tr>\n",
       "\t<tr><th scope=row>3</th><td>A</td><td>65</td><td>60</td><td> 1095</td><td> 3</td></tr>\n",
       "\t<tr><th scope=row>4</th><td>A</td><td>65</td><td>75</td><td> 1095</td><td> 4</td></tr>\n",
       "\t<tr><th scope=row>5</th><td>A</td><td>70</td><td>60</td><td> 1512</td><td> 6</td></tr>\n",
       "\t<tr><th scope=row>6</th><td>A</td><td>70</td><td>75</td><td> 3353</td><td>18</td></tr>\n",
       "\t<tr><th scope=row>7</th><td>A</td><td>75</td><td>60</td><td>    0</td><td> 0</td></tr>\n",
       "\t<tr><th scope=row>8</th><td>A</td><td>75</td><td>75</td><td> 2244</td><td>11</td></tr>\n",
       "\t<tr><th scope=row>9</th><td>B</td><td>60</td><td>60</td><td>44882</td><td>39</td></tr>\n",
       "\t<tr><th scope=row>10</th><td>B</td><td>60</td><td>75</td><td>17176</td><td>29</td></tr>\n",
       "\t<tr><th scope=row>11</th><td>B</td><td>65</td><td>60</td><td>28609</td><td>58</td></tr>\n",
       "\t<tr><th scope=row>12</th><td>B</td><td>65</td><td>75</td><td>20370</td><td>53</td></tr>\n",
       "\t<tr><th scope=row>13</th><td>B</td><td>70</td><td>60</td><td> 7064</td><td>12</td></tr>\n",
       "\t<tr><th scope=row>14</th><td>B</td><td>70</td><td>75</td><td>13099</td><td>44</td></tr>\n",
       "\t<tr><th scope=row>15</th><td>B</td><td>75</td><td>60</td><td>    0</td><td> 0</td></tr>\n",
       "\t<tr><th scope=row>16</th><td>B</td><td>75</td><td>75</td><td> 7117</td><td>18</td></tr>\n",
       "\t<tr><th scope=row>17</th><td>C</td><td>60</td><td>60</td><td> 1179</td><td> 1</td></tr>\n",
       "\t<tr><th scope=row>18</th><td>C</td><td>60</td><td>75</td><td>  552</td><td> 1</td></tr>\n",
       "\t<tr><th scope=row>19</th><td>C</td><td>65</td><td>60</td><td>  781</td><td> 0</td></tr>\n",
       "\t<tr><th scope=row>20</th><td>C</td><td>65</td><td>75</td><td>  676</td><td> 1</td></tr>\n",
       "\t<tr><th scope=row>21</th><td>C</td><td>70</td><td>60</td><td>  783</td><td> 6</td></tr>\n",
       "\t<tr><th scope=row>22</th><td>C</td><td>70</td><td>75</td><td> 1948</td><td> 2</td></tr>\n",
       "\t<tr><th scope=row>23</th><td>C</td><td>75</td><td>60</td><td>    0</td><td> 0</td></tr>\n",
       "\t<tr><th scope=row>24</th><td>C</td><td>75</td><td>75</td><td>  274</td><td> 1</td></tr>\n",
       "\t<tr><th scope=row>25</th><td>D</td><td>60</td><td>60</td><td>  251</td><td> 0</td></tr>\n",
       "\t<tr><th scope=row>26</th><td>D</td><td>60</td><td>75</td><td>  105</td><td> 0</td></tr>\n",
       "\t<tr><th scope=row>27</th><td>D</td><td>65</td><td>60</td><td>  288</td><td> 0</td></tr>\n",
       "\t<tr><th scope=row>28</th><td>D</td><td>65</td><td>75</td><td>  192</td><td> 0</td></tr>\n",
       "\t<tr><th scope=row>29</th><td>D</td><td>70</td><td>60</td><td>  349</td><td> 2</td></tr>\n",
       "\t<tr><th scope=row>30</th><td>D</td><td>70</td><td>75</td><td> 1208</td><td>11</td></tr>\n",
       "\t<tr><th scope=row>31</th><td>D</td><td>75</td><td>60</td><td>    0</td><td> 0</td></tr>\n",
       "\t<tr><th scope=row>32</th><td>D</td><td>75</td><td>75</td><td> 2051</td><td> 4</td></tr>\n",
       "\t<tr><th scope=row>33</th><td>E</td><td>60</td><td>60</td><td>   45</td><td> 0</td></tr>\n",
       "\t<tr><th scope=row>34</th><td>E</td><td>60</td><td>75</td><td>    0</td><td> 0</td></tr>\n",
       "\t<tr><th scope=row>35</th><td>E</td><td>65</td><td>60</td><td>  789</td><td> 7</td></tr>\n",
       "\t<tr><th scope=row>36</th><td>E</td><td>65</td><td>75</td><td>  437</td><td> 7</td></tr>\n",
       "\t<tr><th scope=row>37</th><td>E</td><td>70</td><td>60</td><td> 1157</td><td> 5</td></tr>\n",
       "\t<tr><th scope=row>38</th><td>E</td><td>70</td><td>75</td><td> 2161</td><td>12</td></tr>\n",
       "\t<tr><th scope=row>39</th><td>E</td><td>75</td><td>60</td><td>    0</td><td> 0</td></tr>\n",
       "\t<tr><th scope=row>40</th><td>E</td><td>75</td><td>75</td><td>  542</td><td> 1</td></tr>\n",
       "</tbody>\n",
       "</table>\n"
      ],
      "text/latex": [
       "A data.frame: 40 x 5\n",
       "\\begin{tabular}{r|lllll}\n",
       "  & type & year & period & service & incidents\\\\\n",
       "  & <fct> & <int> & <int> & <int> & <int>\\\\\n",
       "\\hline\n",
       "\t1 & A & 60 & 60 &   127 &  0\\\\\n",
       "\t2 & A & 60 & 75 &    63 &  0\\\\\n",
       "\t3 & A & 65 & 60 &  1095 &  3\\\\\n",
       "\t4 & A & 65 & 75 &  1095 &  4\\\\\n",
       "\t5 & A & 70 & 60 &  1512 &  6\\\\\n",
       "\t6 & A & 70 & 75 &  3353 & 18\\\\\n",
       "\t7 & A & 75 & 60 &     0 &  0\\\\\n",
       "\t8 & A & 75 & 75 &  2244 & 11\\\\\n",
       "\t9 & B & 60 & 60 & 44882 & 39\\\\\n",
       "\t10 & B & 60 & 75 & 17176 & 29\\\\\n",
       "\t11 & B & 65 & 60 & 28609 & 58\\\\\n",
       "\t12 & B & 65 & 75 & 20370 & 53\\\\\n",
       "\t13 & B & 70 & 60 &  7064 & 12\\\\\n",
       "\t14 & B & 70 & 75 & 13099 & 44\\\\\n",
       "\t15 & B & 75 & 60 &     0 &  0\\\\\n",
       "\t16 & B & 75 & 75 &  7117 & 18\\\\\n",
       "\t17 & C & 60 & 60 &  1179 &  1\\\\\n",
       "\t18 & C & 60 & 75 &   552 &  1\\\\\n",
       "\t19 & C & 65 & 60 &   781 &  0\\\\\n",
       "\t20 & C & 65 & 75 &   676 &  1\\\\\n",
       "\t21 & C & 70 & 60 &   783 &  6\\\\\n",
       "\t22 & C & 70 & 75 &  1948 &  2\\\\\n",
       "\t23 & C & 75 & 60 &     0 &  0\\\\\n",
       "\t24 & C & 75 & 75 &   274 &  1\\\\\n",
       "\t25 & D & 60 & 60 &   251 &  0\\\\\n",
       "\t26 & D & 60 & 75 &   105 &  0\\\\\n",
       "\t27 & D & 65 & 60 &   288 &  0\\\\\n",
       "\t28 & D & 65 & 75 &   192 &  0\\\\\n",
       "\t29 & D & 70 & 60 &   349 &  2\\\\\n",
       "\t30 & D & 70 & 75 &  1208 & 11\\\\\n",
       "\t31 & D & 75 & 60 &     0 &  0\\\\\n",
       "\t32 & D & 75 & 75 &  2051 &  4\\\\\n",
       "\t33 & E & 60 & 60 &    45 &  0\\\\\n",
       "\t34 & E & 60 & 75 &     0 &  0\\\\\n",
       "\t35 & E & 65 & 60 &   789 &  7\\\\\n",
       "\t36 & E & 65 & 75 &   437 &  7\\\\\n",
       "\t37 & E & 70 & 60 &  1157 &  5\\\\\n",
       "\t38 & E & 70 & 75 &  2161 & 12\\\\\n",
       "\t39 & E & 75 & 60 &     0 &  0\\\\\n",
       "\t40 & E & 75 & 75 &   542 &  1\\\\\n",
       "\\end{tabular}\n"
      ],
      "text/markdown": [
       "\n",
       "A data.frame: 40 x 5\n",
       "\n",
       "| <!--/--> | type &lt;fct&gt; | year &lt;int&gt; | period &lt;int&gt; | service &lt;int&gt; | incidents &lt;int&gt; |\n",
       "|---|---|---|---|---|---|\n",
       "| 1 | A | 60 | 60 |   127 |  0 |\n",
       "| 2 | A | 60 | 75 |    63 |  0 |\n",
       "| 3 | A | 65 | 60 |  1095 |  3 |\n",
       "| 4 | A | 65 | 75 |  1095 |  4 |\n",
       "| 5 | A | 70 | 60 |  1512 |  6 |\n",
       "| 6 | A | 70 | 75 |  3353 | 18 |\n",
       "| 7 | A | 75 | 60 |     0 |  0 |\n",
       "| 8 | A | 75 | 75 |  2244 | 11 |\n",
       "| 9 | B | 60 | 60 | 44882 | 39 |\n",
       "| 10 | B | 60 | 75 | 17176 | 29 |\n",
       "| 11 | B | 65 | 60 | 28609 | 58 |\n",
       "| 12 | B | 65 | 75 | 20370 | 53 |\n",
       "| 13 | B | 70 | 60 |  7064 | 12 |\n",
       "| 14 | B | 70 | 75 | 13099 | 44 |\n",
       "| 15 | B | 75 | 60 |     0 |  0 |\n",
       "| 16 | B | 75 | 75 |  7117 | 18 |\n",
       "| 17 | C | 60 | 60 |  1179 |  1 |\n",
       "| 18 | C | 60 | 75 |   552 |  1 |\n",
       "| 19 | C | 65 | 60 |   781 |  0 |\n",
       "| 20 | C | 65 | 75 |   676 |  1 |\n",
       "| 21 | C | 70 | 60 |   783 |  6 |\n",
       "| 22 | C | 70 | 75 |  1948 |  2 |\n",
       "| 23 | C | 75 | 60 |     0 |  0 |\n",
       "| 24 | C | 75 | 75 |   274 |  1 |\n",
       "| 25 | D | 60 | 60 |   251 |  0 |\n",
       "| 26 | D | 60 | 75 |   105 |  0 |\n",
       "| 27 | D | 65 | 60 |   288 |  0 |\n",
       "| 28 | D | 65 | 75 |   192 |  0 |\n",
       "| 29 | D | 70 | 60 |   349 |  2 |\n",
       "| 30 | D | 70 | 75 |  1208 | 11 |\n",
       "| 31 | D | 75 | 60 |     0 |  0 |\n",
       "| 32 | D | 75 | 75 |  2051 |  4 |\n",
       "| 33 | E | 60 | 60 |    45 |  0 |\n",
       "| 34 | E | 60 | 75 |     0 |  0 |\n",
       "| 35 | E | 65 | 60 |   789 |  7 |\n",
       "| 36 | E | 65 | 75 |   437 |  7 |\n",
       "| 37 | E | 70 | 60 |  1157 |  5 |\n",
       "| 38 | E | 70 | 75 |  2161 | 12 |\n",
       "| 39 | E | 75 | 60 |     0 |  0 |\n",
       "| 40 | E | 75 | 75 |   542 |  1 |\n",
       "\n"
      ],
      "text/plain": [
       "   type year period service incidents\n",
       "1  A    60   60       127    0       \n",
       "2  A    60   75        63    0       \n",
       "3  A    65   60      1095    3       \n",
       "4  A    65   75      1095    4       \n",
       "5  A    70   60      1512    6       \n",
       "6  A    70   75      3353   18       \n",
       "7  A    75   60         0    0       \n",
       "8  A    75   75      2244   11       \n",
       "9  B    60   60     44882   39       \n",
       "10 B    60   75     17176   29       \n",
       "11 B    65   60     28609   58       \n",
       "12 B    65   75     20370   53       \n",
       "13 B    70   60      7064   12       \n",
       "14 B    70   75     13099   44       \n",
       "15 B    75   60         0    0       \n",
       "16 B    75   75      7117   18       \n",
       "17 C    60   60      1179    1       \n",
       "18 C    60   75       552    1       \n",
       "19 C    65   60       781    0       \n",
       "20 C    65   75       676    1       \n",
       "21 C    70   60       783    6       \n",
       "22 C    70   75      1948    2       \n",
       "23 C    75   60         0    0       \n",
       "24 C    75   75       274    1       \n",
       "25 D    60   60       251    0       \n",
       "26 D    60   75       105    0       \n",
       "27 D    65   60       288    0       \n",
       "28 D    65   75       192    0       \n",
       "29 D    70   60       349    2       \n",
       "30 D    70   75      1208   11       \n",
       "31 D    75   60         0    0       \n",
       "32 D    75   75      2051    4       \n",
       "33 E    60   60        45    0       \n",
       "34 E    60   75         0    0       \n",
       "35 E    65   60       789    7       \n",
       "36 E    65   75       437    7       \n",
       "37 E    70   60      1157    5       \n",
       "38 E    70   75      2161   12       \n",
       "39 E    75   60         0    0       \n",
       "40 E    75   75       542    1       "
      ]
     },
     "metadata": {},
     "output_type": "display_data"
    }
   ],
   "source": [
    "ships"
   ]
  },
  {
   "cell_type": "code",
   "execution_count": 4,
   "metadata": {},
   "outputs": [],
   "source": [
    "shipsf = ships;"
   ]
  },
  {
   "cell_type": "code",
   "execution_count": 5,
   "metadata": {},
   "outputs": [],
   "source": [
    "shipsf$type = factor(shipsf$type)"
   ]
  },
  {
   "cell_type": "code",
   "execution_count": 6,
   "metadata": {},
   "outputs": [],
   "source": [
    "shipsf$year = factor(shipsf$year)"
   ]
  },
  {
   "cell_type": "code",
   "execution_count": 7,
   "metadata": {},
   "outputs": [],
   "source": [
    "shipsf$period = factor(shipsf$period)"
   ]
  },
  {
   "cell_type": "code",
   "execution_count": 8,
   "metadata": {},
   "outputs": [],
   "source": [
    "mod1 = glm(incidents ~ type + year + period + offset(log1p(service)),\n",
    "           family=poisson, \n",
    "           control=glm.control(epsilon=0.0001, maxit=100),\n",
    "           data=shipsf)"
   ]
  },
  {
   "cell_type": "code",
   "execution_count": 10,
   "metadata": {},
   "outputs": [
    {
     "data": {
      "text/plain": [
       "\n",
       "Call:  glm(formula = incidents ~ type + year + period + offset(log1p(service)), \n",
       "    family = poisson, data = shipsf, control = glm.control(epsilon = 1e-04, \n",
       "        maxit = 100))\n",
       "\n",
       "Coefficients:\n",
       "(Intercept)        typeB        typeC        typeD        typeE       year65  \n",
       "   -6.40691     -0.54261     -0.68788     -0.07675      0.32499      0.69721  \n",
       "     year70       year75     period75  \n",
       "    0.81880      0.45335      0.38463  \n",
       "\n",
       "Degrees of Freedom: 39 Total (i.e. Null);  31 Residual\n",
       "Null Deviance:\t    146.3 \n",
       "Residual Deviance: 38.73 \tAIC: 154.6"
      ]
     },
     "metadata": {},
     "output_type": "display_data"
    }
   ],
   "source": [
    "mod1"
   ]
  },
  {
   "cell_type": "code",
   "execution_count": 1,
   "metadata": {},
   "outputs": [
    {
     "name": "stdout",
     "output_type": "stream",
     "text": [
      "\n",
      "Call:\n",
      "glm(formula = Err ~ Day, family = poisson, data = data)\n",
      "\n",
      "Deviance Residuals: \n",
      "     Min        1Q    Median        3Q       Max  \n",
      "-1.44242  -0.36748  -0.06179   0.52884   0.64720  \n",
      "\n",
      "Coefficients:\n",
      "            Estimate Std. Error z value Pr(>|z|)    \n",
      "(Intercept)  0.97682    0.30438   3.209  0.00133 ** \n",
      "Day          0.18789    0.04087   4.598 4.27e-06 ***\n",
      "---\n",
      "Signif. codes:  0 '***' 0.001 '**' 0.01 '*' 0.05 '.' 0.1 ' ' 1\n",
      "\n",
      "(Dispersion parameter for poisson family taken to be 1)\n",
      "\n",
      "    Null deviance: 26.9514  on 9  degrees of freedom\n",
      "Residual deviance:  3.9453  on 8  degrees of freedom\n",
      "AIC: 45.945\n",
      "\n",
      "Number of Fisher Scoring iterations: 4\n",
      "\n"
     ]
    }
   ],
   "source": [
    "data <- data.frame(Day=c(1, 2, 3, 4, 5, 6, 7, 8, 9, 10), Err=c(1, 3, 5, 7, 8, 10, 12, 11, 13, 16))\n",
    "output_P <- glm(Err ~ Day, data = data, family = poisson)\n",
    "print(summary(output_P))"
   ]
  },
  {
   "cell_type": "code",
   "execution_count": 11,
   "metadata": {},
   "outputs": [],
   "source": [
    "?predict.glm"
   ]
  },
  {
   "cell_type": "code",
   "execution_count": 12,
   "metadata": {},
   "outputs": [
    {
     "data": {
      "text/html": [
       "<style>\n",
       ".dl-inline {width: auto; margin:0; padding: 0}\n",
       ".dl-inline>dt, .dl-inline>dd {float: none; width: auto; display: inline-block}\n",
       ".dl-inline>dt::after {content: \":\\0020\"; padding-right: .5ex}\n",
       ".dl-inline>dt:not(:first-of-type) {padding-left: .5ex}\n",
       "</style><dl class=dl-inline><dt>1</dt><dd>3.2050022779864</dd><dt>2</dt><dd>3.86749193272863</dd><dt>3</dt><dd>4.66692144104132</dd><dt>4</dt><dd>5.63159694078138</dd><dt>5</dt><dd>6.79567558701861</dd><dt>6</dt><dd>8.20037498592594</dd><dt>7</dt><dd>9.89543262457325</dd><dt>8</dt><dd>11.9408669720013</dd><dt>9</dt><dd>14.4091026085058</dd><dt>10</dt><dd>17.3875346295437</dd></dl>\n"
      ],
      "text/latex": [
       "\\begin{description*}\n",
       "\\item[1] 3.2050022779864\n",
       "\\item[2] 3.86749193272863\n",
       "\\item[3] 4.66692144104132\n",
       "\\item[4] 5.63159694078138\n",
       "\\item[5] 6.79567558701861\n",
       "\\item[6] 8.20037498592594\n",
       "\\item[7] 9.89543262457325\n",
       "\\item[8] 11.9408669720013\n",
       "\\item[9] 14.4091026085058\n",
       "\\item[10] 17.3875346295437\n",
       "\\end{description*}\n"
      ],
      "text/markdown": [
       "1\n",
       ":   3.20500227798642\n",
       ":   3.867491932728633\n",
       ":   4.666921441041324\n",
       ":   5.631596940781385\n",
       ":   6.795675587018616\n",
       ":   8.200374985925947\n",
       ":   9.895432624573258\n",
       ":   11.94086697200139\n",
       ":   14.409102608505810\n",
       ":   17.3875346295437\n",
       "\n"
      ],
      "text/plain": [
       "        1         2         3         4         5         6         7         8 \n",
       " 3.205002  3.867492  4.666921  5.631597  6.795676  8.200375  9.895433 11.940867 \n",
       "        9        10 \n",
       "14.409103 17.387535 "
      ]
     },
     "metadata": {},
     "output_type": "display_data"
    }
   ],
   "source": [
    "predict.glm(output_P,data,type=\"response\")"
   ]
  },
  {
   "cell_type": "code",
   "execution_count": 15,
   "metadata": {},
   "outputs": [
    {
     "data": {
      "text/html": [
       "<strong>1:</strong> 20.9816231244767"
      ],
      "text/latex": [
       "\\textbf{1:} 20.9816231244767"
      ],
      "text/markdown": [
       "**1:** 20.9816231244767"
      ],
      "text/plain": [
       "       1 \n",
       "20.98162 "
      ]
     },
     "metadata": {},
     "output_type": "display_data"
    }
   ],
   "source": [
    "predict.glm(output_P,data.frame(Day=c(11)),type=\"response\")"
   ]
  },
  {
   "cell_type": "code",
   "execution_count": null,
   "metadata": {},
   "outputs": [],
   "source": []
  }
 ],
 "metadata": {
  "kernelspec": {
   "display_name": "R",
   "language": "R",
   "name": "ir"
  },
  "language_info": {
   "codemirror_mode": "r",
   "file_extension": ".r",
   "mimetype": "text/x-r-source",
   "name": "R",
   "pygments_lexer": "r",
   "version": "3.4.4"
  }
 },
 "nbformat": 4,
 "nbformat_minor": 2
}
