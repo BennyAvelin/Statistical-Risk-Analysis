{
 "cells": [
  {
   "cell_type": "markdown",
   "metadata": {},
   "source": [
    "# Maximum likelihood estimation of Gumbel and GEV"
   ]
  },
  {
   "cell_type": "code",
   "execution_count": 1,
   "metadata": {},
   "outputs": [],
   "source": [
    "import numpy as np\n",
    "from scipy import stats\n",
    "import statsmodels.api as sm\n",
    "from statsmodels.base.model import GenericLikelihoodModel"
   ]
  },
  {
   "cell_type": "markdown",
   "metadata": {},
   "source": [
    "Start by generating some random data from the Gumbel distribution so we have something to work with"
   ]
  },
  {
   "cell_type": "code",
   "execution_count": 2,
   "metadata": {},
   "outputs": [],
   "source": [
    "rv = stats.gumbel_r.rvs(loc=1,scale=1,size=1000)"
   ]
  },
  {
   "cell_type": "code",
   "execution_count": 3,
   "metadata": {},
   "outputs": [],
   "source": [
    "import matplotlib.pyplot as plt"
   ]
  },
  {
   "cell_type": "code",
   "execution_count": 4,
   "metadata": {},
   "outputs": [
    {
     "data": {
      "image/png": "[encoded data removed]",
      "text/plain": [
       "<Figure size 432x288 with 1 Axes>"
      ]
     },
     "metadata": {
      "needs_background": "light"
     },
     "output_type": "display_data"
    }
   ],
   "source": [
    "_=plt.hist(rv,bins=100)"
   ]
  },
  {
   "cell_type": "markdown",
   "metadata": {},
   "source": [
    "```Statsmodels``` requires us to have a DataFrame with the data, so let us create one"
   ]
  },
  {
   "cell_type": "code",
   "execution_count": 5,
   "metadata": {},
   "outputs": [],
   "source": [
    "import pandas as pd"
   ]
  },
  {
   "cell_type": "code",
   "execution_count": 6,
   "metadata": {},
   "outputs": [],
   "source": [
    "df = pd.DataFrame()"
   ]
  },
  {
   "cell_type": "markdown",
   "metadata": {},
   "source": [
    "The Endogeneous variable is the variable we wish to model"
   ]
  },
  {
   "cell_type": "code",
   "execution_count": 7,
   "metadata": {},
   "outputs": [],
   "source": [
    "df['endog'] = rv"
   ]
  },
  {
   "cell_type": "markdown",
   "metadata": {},
   "source": [
    "Let us also create a column for each of the parameters in the Gumbel model, i.e. $a$ and $b$"
   ]
  },
  {
   "cell_type": "code",
   "execution_count": 8,
   "metadata": {},
   "outputs": [],
   "source": [
    "df['a'] = 1\n",
    "df['b'] = 1"
   ]
  },
  {
   "cell_type": "markdown",
   "metadata": {},
   "source": [
    "$a$ and $b$ will be the exogeneous variable"
   ]
  },
  {
   "cell_type": "code",
   "execution_count": 9,
   "metadata": {},
   "outputs": [],
   "source": [
    "exog = df[['a','b']]\n",
    "endog = df.endog"
   ]
  },
  {
   "cell_type": "markdown",
   "metadata": {},
   "source": [
    "To find the maximum likelihood estimator using Statsmodels we can employ the ```GenericLikelihoodModel``` which has some limitations, but it at least works for Gumbel. The only thing we need to do is to generate the loglikelihood and Statsmodels does the rest"
   ]
  },
  {
   "cell_type": "code",
   "execution_count": 10,
   "metadata": {},
   "outputs": [],
   "source": [
    "class MyGumbel(GenericLikelihoodModel):\n",
    "    def loglike(self, params):\n",
    "        #exog = self.exog\n",
    "        endog = self.endog\n",
    "        return stats.gumbel_r.logpdf(endog,loc=params[1],scale=params[0]).sum()"
   ]
  },
  {
   "cell_type": "markdown",
   "metadata": {},
   "source": [
    "Create the model"
   ]
  },
  {
   "cell_type": "code",
   "execution_count": 11,
   "metadata": {},
   "outputs": [],
   "source": [
    "gumbel_model = MyGumbel(endog, exog)"
   ]
  },
  {
   "cell_type": "markdown",
   "metadata": {},
   "source": [
    "Fit the model"
   ]
  },
  {
   "cell_type": "code",
   "execution_count": 12,
   "metadata": {},
   "outputs": [
    {
     "name": "stdout",
     "output_type": "stream",
     "text": [
      "Optimization terminated successfully.\n",
      "         Current function value: 1.599611\n",
      "         Iterations: 58\n",
      "         Function evaluations: 111\n"
     ]
    }
   ],
   "source": [
    "gumbel_model_fit = gumbel_model.fit()"
   ]
  },
  {
   "cell_type": "code",
   "execution_count": 13,
   "metadata": {},
   "outputs": [
    {
     "data": {
      "text/html": [
       "<table class=\"simpletable\">\n",
       "<caption>MyGumbel Results</caption>\n",
       "<tr>\n",
       "  <th>Dep. Variable:</th>           <td>endog</td>       <th>  Log-Likelihood:    </th> <td> -1599.6</td>\n",
       "</tr>\n",
       "<tr>\n",
       "  <th>Model:</th>                 <td>MyGumbel</td>      <th>  AIC:               </th> <td>   3201.</td>\n",
       "</tr>\n",
       "<tr>\n",
       "  <th>Method:</th>           <td>Maximum Likelihood</td> <th>  BIC:               </th> <td>   3206.</td>\n",
       "</tr>\n",
       "<tr>\n",
       "  <th>Date:</th>              <td>Fri, 01 May 2020</td>  <th>                     </th>     <td> </td>   \n",
       "</tr>\n",
       "<tr>\n",
       "  <th>Time:</th>                  <td>15:11:32</td>      <th>                     </th>     <td> </td>   \n",
       "</tr>\n",
       "<tr>\n",
       "  <th>No. Observations:</th>       <td>  1000</td>       <th>                     </th>     <td> </td>   \n",
       "</tr>\n",
       "<tr>\n",
       "  <th>Df Residuals:</th>           <td>   999</td>       <th>                     </th>     <td> </td>   \n",
       "</tr>\n",
       "<tr>\n",
       "  <th>Df Model:</th>               <td>     0</td>       <th>                     </th>     <td> </td>   \n",
       "</tr>\n",
       "</table>\n",
       "<table class=\"simpletable\">\n",
       "<tr>\n",
       "  <td></td>     <th>coef</th>     <th>std err</th>      <th>z</th>      <th>P>|z|</th>  <th>[0.025</th>    <th>0.975]</th>  \n",
       "</tr>\n",
       "<tr>\n",
       "  <th>a</th> <td>    1.0127</td> <td>    0.025</td> <td>   40.084</td> <td> 0.000</td> <td>    0.963</td> <td>    1.062</td>\n",
       "</tr>\n",
       "<tr>\n",
       "  <th>b</th> <td>    0.9770</td> <td>    0.034</td> <td>   29.007</td> <td> 0.000</td> <td>    0.911</td> <td>    1.043</td>\n",
       "</tr>\n",
       "</table>"
      ],
      "text/plain": [
       "<class 'statsmodels.iolib.summary.Summary'>\n",
       "\"\"\"\n",
       "                               MyGumbel Results                               \n",
       "==============================================================================\n",
       "Dep. Variable:                  endog   Log-Likelihood:                -1599.6\n",
       "Model:                       MyGumbel   AIC:                             3201.\n",
       "Method:            Maximum Likelihood   BIC:                             3206.\n",
       "Date:                Fri, 01 May 2020                                         \n",
       "Time:                        15:11:32                                         \n",
       "No. Observations:                1000                                         \n",
       "Df Residuals:                     999                                         \n",
       "Df Model:                           0                                         \n",
       "==============================================================================\n",
       "                 coef    std err          z      P>|z|      [0.025      0.975]\n",
       "------------------------------------------------------------------------------\n",
       "a              1.0127      0.025     40.084      0.000       0.963       1.062\n",
       "b              0.9770      0.034     29.007      0.000       0.911       1.043\n",
       "==============================================================================\n",
       "\"\"\""
      ]
     },
     "execution_count": 13,
     "metadata": {},
     "output_type": "execute_result"
    }
   ],
   "source": [
    "gumbel_model_fit.summary()"
   ]
  },
  {
   "cell_type": "code",
   "execution_count": 14,
   "metadata": {},
   "outputs": [
    {
     "data": {
      "text/plain": [
       "(1.0126776355601301, 0.9769728606053696)"
      ]
     },
     "execution_count": 14,
     "metadata": {},
     "output_type": "execute_result"
    }
   ],
   "source": [
    "stats.gumbel_r.fit(endog)[::-1]"
   ]
  },
  {
   "cell_type": "markdown",
   "metadata": {},
   "source": [
    "How did Statsmodels do this, well first of all the ML estimate is found by numerically solving the equations that we saw before in the lecture. Secondly they calculate the standard error using asymptotic normality of ML estimators, as I mentioned before. In the case of several parameters the variance of the estimator is the inverse of the hessian matrix (instead of $-1/l''$) "
   ]
  },
  {
   "cell_type": "code",
   "execution_count": 15,
   "metadata": {},
   "outputs": [
    {
     "data": {
      "text/plain": [
       "array([[0.00063824, 0.0002636 ],\n",
       "       [0.0002636 , 0.00113436]])"
      ]
     },
     "execution_count": 15,
     "metadata": {},
     "output_type": "execute_result"
    }
   ],
   "source": [
    "variance = -np.linalg.inv(gumbel_model.hessian(stats.gumbel_r.fit(endog)[::-1]))\n",
    "variance"
   ]
  },
  {
   "cell_type": "markdown",
   "metadata": {},
   "source": [
    "To get standard errors we take square root of each entry in the variance-covariance matrix"
   ]
  },
  {
   "cell_type": "code",
   "execution_count": 16,
   "metadata": {},
   "outputs": [
    {
     "data": {
      "text/plain": [
       "array([[0.02526342, 0.01623575],\n",
       "       [0.01623575, 0.03368031]])"
      ]
     },
     "execution_count": 16,
     "metadata": {},
     "output_type": "execute_result"
    }
   ],
   "source": [
    "np.sqrt(variance)"
   ]
  },
  {
   "cell_type": "markdown",
   "metadata": {},
   "source": [
    "We see that it perfectly fits what Statsmodels is doing. Let us now try to fit the GEV model"
   ]
  },
  {
   "cell_type": "markdown",
   "metadata": {},
   "source": [
    "# The difficult GEV"
   ]
  },
  {
   "cell_type": "code",
   "execution_count": 25,
   "metadata": {},
   "outputs": [],
   "source": [
    "rv = stats.genextreme.rvs(c=-0.1,loc=1,scale=1,size=1000)"
   ]
  },
  {
   "cell_type": "code",
   "execution_count": 26,
   "metadata": {},
   "outputs": [
    {
     "data": {
      "image/png": "[encoded data removed]",
      "text/plain": [
       "<Figure size 432x288 with 1 Axes>"
      ]
     },
     "metadata": {
      "needs_background": "light"
     },
     "output_type": "display_data"
    }
   ],
   "source": [
    "_=plt.hist(rv,bins=100)"
   ]
  },
  {
   "cell_type": "code",
   "execution_count": 27,
   "metadata": {},
   "outputs": [],
   "source": [
    "df = pd.DataFrame()\n",
    "df['endog'] = rv"
   ]
  },
  {
   "cell_type": "code",
   "execution_count": 28,
   "metadata": {},
   "outputs": [],
   "source": [
    "df['a'] = 1\n",
    "df['b'] = 1\n",
    "df['c'] = 1"
   ]
  },
  {
   "cell_type": "code",
   "execution_count": 29,
   "metadata": {},
   "outputs": [],
   "source": [
    "exog = df[['a','b','c']]\n",
    "endog = df.endog"
   ]
  },
  {
   "cell_type": "code",
   "execution_count": 30,
   "metadata": {},
   "outputs": [],
   "source": [
    "class MyGEV(GenericLikelihoodModel):\n",
    "    def loglike(self, params):\n",
    "        exog = self.exog\n",
    "        endog = self.endog\n",
    "        return stats.genextreme.logpdf(endog,c=params[2],loc=params[1],scale=params[0]).sum()"
   ]
  },
  {
   "cell_type": "code",
   "execution_count": 31,
   "metadata": {},
   "outputs": [],
   "source": [
    "GEV_model = MyGEV(endog, exog)"
   ]
  },
  {
   "cell_type": "code",
   "execution_count": 39,
   "metadata": {
    "scrolled": true
   },
   "outputs": [
    {
     "name": "stdout",
     "output_type": "stream",
     "text": [
      "Optimization terminated successfully.\n",
      "         Current function value: 1.637573\n",
      "         Iterations: 38\n",
      "         Function evaluations: 70\n"
     ]
    }
   ],
   "source": [
    "GEV_model_fit = GEV_model.fit(maxiter=1000,start_params=[1,1,-0.1])"
   ]
  },
  {
   "cell_type": "code",
   "execution_count": 40,
   "metadata": {},
   "outputs": [
    {
     "data": {
      "text/html": [
       "<table class=\"simpletable\">\n",
       "<caption>MyGEV Results</caption>\n",
       "<tr>\n",
       "  <th>Dep. Variable:</th>           <td>endog</td>       <th>  Log-Likelihood:    </th> <td> -1637.6</td>\n",
       "</tr>\n",
       "<tr>\n",
       "  <th>Model:</th>                   <td>MyGEV</td>       <th>  AIC:               </th> <td>   3277.</td>\n",
       "</tr>\n",
       "<tr>\n",
       "  <th>Method:</th>           <td>Maximum Likelihood</td> <th>  BIC:               </th> <td>   3282.</td>\n",
       "</tr>\n",
       "<tr>\n",
       "  <th>Date:</th>              <td>Fri, 01 May 2020</td>  <th>                     </th>     <td> </td>   \n",
       "</tr>\n",
       "<tr>\n",
       "  <th>Time:</th>                  <td>15:19:22</td>      <th>                     </th>     <td> </td>   \n",
       "</tr>\n",
       "<tr>\n",
       "  <th>No. Observations:</th>       <td>  1000</td>       <th>                     </th>     <td> </td>   \n",
       "</tr>\n",
       "<tr>\n",
       "  <th>Df Residuals:</th>           <td>   999</td>       <th>                     </th>     <td> </td>   \n",
       "</tr>\n",
       "<tr>\n",
       "  <th>Df Model:</th>               <td>     0</td>       <th>                     </th>     <td> </td>   \n",
       "</tr>\n",
       "</table>\n",
       "<table class=\"simpletable\">\n",
       "<tr>\n",
       "  <td></td>     <th>coef</th>     <th>std err</th>      <th>z</th>      <th>P>|z|</th>  <th>[0.025</th>    <th>0.975]</th>  \n",
       "</tr>\n",
       "<tr>\n",
       "  <th>a</th> <td>    0.9984</td> <td>    0.027</td> <td>   37.306</td> <td> 0.000</td> <td>    0.946</td> <td>    1.051</td>\n",
       "</tr>\n",
       "<tr>\n",
       "  <th>b</th> <td>    0.9913</td> <td>    0.035</td> <td>   27.971</td> <td> 0.000</td> <td>    0.922</td> <td>    1.061</td>\n",
       "</tr>\n",
       "<tr>\n",
       "  <th>c</th> <td>   -0.1090</td> <td>    0.023</td> <td>   -4.702</td> <td> 0.000</td> <td>   -0.154</td> <td>   -0.064</td>\n",
       "</tr>\n",
       "</table>"
      ],
      "text/plain": [
       "<class 'statsmodels.iolib.summary.Summary'>\n",
       "\"\"\"\n",
       "                                MyGEV Results                                 \n",
       "==============================================================================\n",
       "Dep. Variable:                  endog   Log-Likelihood:                -1637.6\n",
       "Model:                          MyGEV   AIC:                             3277.\n",
       "Method:            Maximum Likelihood   BIC:                             3282.\n",
       "Date:                Fri, 01 May 2020                                         \n",
       "Time:                        15:19:22                                         \n",
       "No. Observations:                1000                                         \n",
       "Df Residuals:                     999                                         \n",
       "Df Model:                           0                                         \n",
       "==============================================================================\n",
       "                 coef    std err          z      P>|z|      [0.025      0.975]\n",
       "------------------------------------------------------------------------------\n",
       "a              0.9984      0.027     37.306      0.000       0.946       1.051\n",
       "b              0.9913      0.035     27.971      0.000       0.922       1.061\n",
       "c             -0.1090      0.023     -4.702      0.000      -0.154      -0.064\n",
       "==============================================================================\n",
       "\"\"\""
      ]
     },
     "execution_count": 40,
     "metadata": {},
     "output_type": "execute_result"
    }
   ],
   "source": [
    "GEV_model_fit.summary()"
   ]
  },
  {
   "cell_type": "code",
   "execution_count": 41,
   "metadata": {
    "scrolled": true
   },
   "outputs": [
    {
     "data": {
      "text/plain": [
       "(-0.10900798833994779, 0.991274634318924, 0.9983569161217929)"
      ]
     },
     "execution_count": 41,
     "metadata": {},
     "output_type": "execute_result"
    }
   ],
   "source": [
    "params = stats.genextreme.fit(rv)\n",
    "params"
   ]
  }
 ],
 "metadata": {
  "kernelspec": {
   "display_name": "Python 3",
   "language": "python",
   "name": "python3"
  },
  "language_info": {
   "codemirror_mode": {
    "name": "ipython",
    "version": 3
   },
   "file_extension": ".py",
   "mimetype": "text/x-python",
   "name": "python",
   "nbconvert_exporter": "python",
   "pygments_lexer": "ipython3",
   "version": "3.6.9"
  }
 },
 "nbformat": 4,
 "nbformat_minor": 2
}
