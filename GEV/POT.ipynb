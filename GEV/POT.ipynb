{
 "cells": [
  {
   "cell_type": "code",
   "execution_count": 1,
   "metadata": {},
   "outputs": [],
   "source": [
    "import numpy as np\n",
    "import scipy.stats as ss"
   ]
  },
  {
   "cell_type": "code",
   "execution_count": 2,
   "metadata": {},
   "outputs": [],
   "source": [
    "x = np.sort(-np.array([0.55,0.74,0.77,0.81,0.84,0.93,1.04,1.11,1.13,1.24,1.25,1.27,1.28,1.29,1.30,1.36,1.39,1.42,1.48,1.48,1.49,1.49,1.50,1.50,1.51,\n",
    "1.52,1.53,1.54,1.55,1.55,1.58,1.59,1.60,1.61,1.61,1.61,1.61,1.62,1.62,1.63,1.64,1.66,1.66,1.66,1.67,1.68,1.68,1.69,1.70,1.70,1.73,1.76,1.76,1.77,1.78,1.81,1.82,1.84,1.84,1.89,\n",
    "2.00,2.01,2.24]))"
   ]
  },
  {
   "cell_type": "code",
   "execution_count": 3,
   "metadata": {},
   "outputs": [],
   "source": [
    "maximum = np.maximum((x.reshape(-1,1) - x.reshape(1,-1)),0)\n",
    "num_max = (x.reshape(-1,1) - x.reshape(1,-1) >= 0)*1"
   ]
  },
  {
   "cell_type": "code",
   "execution_count": 4,
   "metadata": {},
   "outputs": [
    {
     "data": {
      "text/plain": [
       "<matplotlib.collections.PathCollection at 0x7f80c33c8908>"
      ]
     },
     "execution_count": 4,
     "metadata": {},
     "output_type": "execute_result"
    },
    {
     "data": {
      "image/png": "[encoded data removed]",
      "text/plain": [
       "<Figure size 432x288 with 1 Axes>"
      ]
     },
     "metadata": {
      "needs_background": "light"
     },
     "output_type": "display_data"
    }
   ],
   "source": [
    "%matplotlib inline\n",
    "import matplotlib.pyplot as plt\n",
    "plt.scatter(x,np.sum(maximum,axis=1)/np.sum(num_max,axis=1))"
   ]
  },
  {
   "cell_type": "markdown",
   "metadata": {},
   "source": [
    "This allows us to set -1.4 as the minimum threshold for this problem, i.e. $u_0 = -1.4$"
   ]
  },
  {
   "cell_type": "code",
   "execution_count": 5,
   "metadata": {},
   "outputs": [],
   "source": [
    "u0 = -1.4\n",
    "x_tail = x[x > u0]\n",
    "p0 = len(x_tail)/len(x)"
   ]
  },
  {
   "cell_type": "code",
   "execution_count": 6,
   "metadata": {},
   "outputs": [
    {
     "data": {
      "text/plain": [
       "array([0.01, 0.04, 0.1 , 0.11, 0.12, 0.13, 0.15, 0.16, 0.27, 0.29, 0.36,\n",
       "       0.47, 0.56, 0.59, 0.63, 0.66, 0.85])"
      ]
     },
     "execution_count": 6,
     "metadata": {},
     "output_type": "execute_result"
    }
   ],
   "source": [
    "x_tail-u0"
   ]
  },
  {
   "cell_type": "code",
   "execution_count": 7,
   "metadata": {},
   "outputs": [
    {
     "name": "stdout",
     "output_type": "stream",
     "text": [
      "-0.5697184618101314\n",
      "0.5279858619189045\n"
     ]
    },
    {
     "name": "stderr",
     "output_type": "stream",
     "text": [
      "/usr/local/lib/python3.6/dist-packages/scipy/stats/_continuous_distns.py:2248: RuntimeWarning: divide by zero encountered in true_divide\n",
      "  val = val + cnk * (-1) ** ki / (1.0 - c * ki)\n",
      "/usr/local/lib/python3.6/dist-packages/scipy/stats/_distn_infrastructure.py:1035: RuntimeWarning: invalid value encountered in subtract\n",
      "  mu2 = mu2p - mu * mu\n",
      "/usr/local/lib/python3.6/dist-packages/scipy/stats/_distn_infrastructure.py:2316: RuntimeWarning: invalid value encountered in double_scalars\n",
      "  Lhat = muhat - Shat*mu\n"
     ]
    }
   ],
   "source": [
    "c,_,scale = ss.genpareto.fit(x_tail-u0,floc=0)\n",
    "print(c)\n",
    "print(scale)"
   ]
  },
  {
   "cell_type": "code",
   "execution_count": 9,
   "metadata": {},
   "outputs": [
    {
     "data": {
      "text/plain": [
       "[<matplotlib.lines.Line2D at 0x7f80c2eebda0>]"
      ]
     },
     "execution_count": 9,
     "metadata": {},
     "output_type": "execute_result"
    },
    {
     "data": {
      "image/png": "[encoded data removed]",
      "text/plain": [
       "<Figure size 432x288 with 1 Axes>"
      ]
     },
     "metadata": {
      "needs_background": "light"
     },
     "output_type": "display_data"
    }
   ],
   "source": [
    "plt.hist(x_tail-u0,bins=4,density=True)\n",
    "z = np.linspace(0,1,10)\n",
    "plt.plot(z,ss.genpareto.pdf(z,c=c,loc=0,scale=scale))"
   ]
  },
  {
   "cell_type": "code",
   "execution_count": 10,
   "metadata": {},
   "outputs": [
    {
     "data": {
      "text/plain": [
       "-0.6150371995423031"
      ]
     },
     "execution_count": 10,
     "metadata": {},
     "output_type": "execute_result"
    }
   ],
   "source": [
    "alpha=0.01\n",
    "ss.genpareto.ppf(1-alpha/p0,c=c,loc=0,scale=scale)+u0"
   ]
  },
  {
   "cell_type": "code",
   "execution_count": null,
   "metadata": {},
   "outputs": [],
   "source": []
  }
 ],
 "metadata": {
  "kernelspec": {
   "display_name": "Python 3",
   "language": "python",
   "name": "python3"
  },
  "language_info": {
   "codemirror_mode": {
    "name": "ipython",
    "version": 3
   },
   "file_extension": ".py",
   "mimetype": "text/x-python",
   "name": "python",
   "nbconvert_exporter": "python",
   "pygments_lexer": "ipython3",
   "version": "3.6.9"
  }
 },
 "nbformat": 4,
 "nbformat_minor": 2
}
